{
  "cells": [
    {
      "cell_type": "markdown",
      "metadata": {
        "id": "_jVhN0QJOrC7"
      },
      "source": [
        "# DATA HARVESTING"
      ]
    },
    {
      "cell_type": "code",
      "execution_count": 1,
      "metadata": {
        "id": "oa1MRtM4Nj9F"
      },
      "outputs": [],
      "source": [
        "from urllib.request import urlopen\n",
        "from bs4 import BeautifulSoup\n",
        "import re"
      ]
    },
    {
      "cell_type": "code",
      "execution_count": 6,
      "metadata": {
        "colab": {
          "base_uri": "https://localhost:8080/"
        },
        "id": "ByeLEAjAQjgh",
        "outputId": "49254fc7-1c77-4876-e51f-73cf3478d6a8"
      },
      "outputs": [
        {
          "data": {
            "text/plain": [
              "[\"'ls' n�o � reconhecido como um comando interno\",\n",
              " 'ou externo, um programa oper�vel ou um arquivo em lotes.']"
            ]
          },
          "execution_count": 6,
          "metadata": {},
          "output_type": "execute_result"
        }
      ],
      "source": [
        "pastas = !ls\n",
        "pastas"
      ]
    },
    {
      "cell_type": "code",
      "execution_count": 11,
      "metadata": {
        "id": "DRYUg7hOPZ9S"
      },
      "outputs": [
        {
          "ename": "FileNotFoundError",
          "evalue": "[Errno 2] No such file or directory: 'C:\\\\Users\\\\caios\\\\OneDrive\\\\Documentos\\\\MBA em Ciência de Dados\\\\turmads11_unifor\\\\src\\\\html\\\\html.html'",
          "output_type": "error",
          "traceback": [
            "\u001b[1;31m---------------------------------------------------------------------------\u001b[0m",
            "\u001b[1;31mFileNotFoundError\u001b[0m                         Traceback (most recent call last)",
            "Cell \u001b[1;32mIn[11], line 3\u001b[0m\n\u001b[0;32m      1\u001b[0m \u001b[38;5;66;03m# boa prática para constantes LETRAMAIUSCULA\u001b[39;00m\n\u001b[0;32m      2\u001b[0m \u001b[38;5;66;03m# HTML = urlopen(\"file:////content/drive/MyDrive/MBA/UNIFOR/DATA SCIENCE/2023/DATA HARVESTING/html/html.html\")\u001b[39;00m\n\u001b[1;32m----> 3\u001b[0m HTML \u001b[38;5;241m=\u001b[39m \u001b[38;5;28;43mopen\u001b[39;49m\u001b[43m(\u001b[49m\u001b[38;5;124;43mr\u001b[39;49m\u001b[38;5;124;43m\"\u001b[39;49m\u001b[38;5;124;43mC:\u001b[39;49m\u001b[38;5;124;43m\\\u001b[39;49m\u001b[38;5;124;43mUsers\u001b[39;49m\u001b[38;5;124;43m\\\u001b[39;49m\u001b[38;5;124;43mcaios\u001b[39;49m\u001b[38;5;124;43m\\\u001b[39;49m\u001b[38;5;124;43mOneDrive\u001b[39;49m\u001b[38;5;124;43m\\\u001b[39;49m\u001b[38;5;124;43mDocumentos\u001b[39;49m\u001b[38;5;124;43m\\\u001b[39;49m\u001b[38;5;124;43mMBA em Ciência de Dados\u001b[39;49m\u001b[38;5;124;43m\\\u001b[39;49m\u001b[38;5;124;43mturmads11_unifor\u001b[39;49m\u001b[38;5;124;43m\\\u001b[39;49m\u001b[38;5;124;43msrc\u001b[39;49m\u001b[38;5;124;43m\\\u001b[39;49m\u001b[38;5;124;43mhtml\u001b[39;49m\u001b[38;5;124;43m\\\u001b[39;49m\u001b[38;5;124;43mhtml.html\u001b[39;49m\u001b[38;5;124;43m\"\u001b[39;49m\u001b[43m,\u001b[49m\u001b[43m \u001b[49m\u001b[43mencoding\u001b[49m\u001b[38;5;241;43m=\u001b[39;49m\u001b[38;5;124;43m'\u001b[39;49m\u001b[38;5;124;43mutf-8\u001b[39;49m\u001b[38;5;124;43m'\u001b[39;49m\u001b[43m)\u001b[49m\n",
            "File \u001b[1;32mc:\\Users\\caios\\OneDrive\\Documentos\\MBA em Ciência de Dados\\turmads11_unifor\\DATA_HARV\\lib\\site-packages\\IPython\\core\\interactiveshell.py:324\u001b[0m, in \u001b[0;36m_modified_open\u001b[1;34m(file, *args, **kwargs)\u001b[0m\n\u001b[0;32m    317\u001b[0m \u001b[38;5;28;01mif\u001b[39;00m file \u001b[38;5;129;01min\u001b[39;00m {\u001b[38;5;241m0\u001b[39m, \u001b[38;5;241m1\u001b[39m, \u001b[38;5;241m2\u001b[39m}:\n\u001b[0;32m    318\u001b[0m     \u001b[38;5;28;01mraise\u001b[39;00m \u001b[38;5;167;01mValueError\u001b[39;00m(\n\u001b[0;32m    319\u001b[0m         \u001b[38;5;124mf\u001b[39m\u001b[38;5;124m\"\u001b[39m\u001b[38;5;124mIPython won\u001b[39m\u001b[38;5;124m'\u001b[39m\u001b[38;5;124mt let you open fd=\u001b[39m\u001b[38;5;132;01m{\u001b[39;00mfile\u001b[38;5;132;01m}\u001b[39;00m\u001b[38;5;124m by default \u001b[39m\u001b[38;5;124m\"\u001b[39m\n\u001b[0;32m    320\u001b[0m         \u001b[38;5;124m\"\u001b[39m\u001b[38;5;124mas it is likely to crash IPython. If you know what you are doing, \u001b[39m\u001b[38;5;124m\"\u001b[39m\n\u001b[0;32m    321\u001b[0m         \u001b[38;5;124m\"\u001b[39m\u001b[38;5;124myou can use builtins\u001b[39m\u001b[38;5;124m'\u001b[39m\u001b[38;5;124m open.\u001b[39m\u001b[38;5;124m\"\u001b[39m\n\u001b[0;32m    322\u001b[0m     )\n\u001b[1;32m--> 324\u001b[0m \u001b[38;5;28;01mreturn\u001b[39;00m io_open(file, \u001b[38;5;241m*\u001b[39margs, \u001b[38;5;241m*\u001b[39m\u001b[38;5;241m*\u001b[39mkwargs)\n",
            "\u001b[1;31mFileNotFoundError\u001b[0m: [Errno 2] No such file or directory: 'C:\\\\Users\\\\caios\\\\OneDrive\\\\Documentos\\\\MBA em Ciência de Dados\\\\turmads11_unifor\\\\src\\\\html\\\\html.html'"
          ]
        }
      ],
      "source": [
        "# boa prática para constantes LETRAMAIUSCULA\n",
        "# HTML = urlopen(\"file:////content/drive/MyDrive/MBA/UNIFOR/DATA SCIENCE/2023/DATA HARVESTING/html/html.html\")\n",
        "HTML = open(r\"C:\\Users\\caios\\OneDrive\\Documentos\\MBA em Ciência de Dados\\turmads11_unifor\\src\\html\\html.html\", encoding='utf-8')"
      ]
    },
    {
      "cell_type": "markdown",
      "metadata": {
        "id": "DbIhMyG4UB7s"
      },
      "source": [
        "## Pontos iniciais"
      ]
    },
    {
      "cell_type": "code",
      "execution_count": 5,
      "metadata": {
        "id": "CxV0Y8LVPaeh"
      },
      "outputs": [],
      "source": [
        "# read() - recebe o objeto do urlopen com o conteudo da pagina, arquivo.\n",
        "# html.parser e lxml - é uma espécie de extrator de dados, ele faz a leitura e coleta do arquivo html posicionados no .read()\n",
        "# BeautifulSoup - recebe os parametros anteriores e instancia o objeto bs com o response, retorno, resposta, saida, etc...\n",
        "\n",
        "bs = BeautifulSoup(HTML.read(), 'lxml')"
      ]
    },
    {
      "cell_type": "markdown",
      "metadata": {
        "id": "whSTOYI_QIfm"
      },
      "source": [
        "## Falando de Parsers\n",
        "html.parser - sem dependencias e velocidade media, leniencia media\n",
        "\n",
        "html5lib - mais leniente a problemas no html, baixa velocidade e possui dependencia\n",
        "\n",
        "lxml - o mais rapido, pouco leniente a falhas no html"
      ]
    },
    {
      "cell_type": "markdown",
      "metadata": {
        "id": "RfCSV8mh9nQD"
      },
      "source": [
        "### Visualizando o HTML"
      ]
    },
    {
      "cell_type": "code",
      "execution_count": null,
      "metadata": {
        "id": "Wg5FLEE2ReNR"
      },
      "outputs": [],
      "source": [
        "#bs"
      ]
    },
    {
      "cell_type": "markdown",
      "metadata": {
        "id": "egx6buBpSQgL"
      },
      "source": [
        "#### Raspagem do HTML"
      ]
    },
    {
      "cell_type": "markdown",
      "metadata": {
        "id": "yYyz4Jw4Rzz9"
      },
      "source": [
        "Exercicio 1\n",
        "Vamos lá! Capturar o texto da tag P que está na DIV de classe CABECALHO.\n",
        "Depois imprima na tela o resultado."
      ]
    },
    {
      "cell_type": "code",
      "execution_count": 5,
      "metadata": {
        "id": "MD7ZU3lDi4cQ"
      },
      "outputs": [],
      "source": [
        "main = bs.find('div')"
      ]
    },
    {
      "cell_type": "code",
      "execution_count": 6,
      "metadata": {
        "colab": {
          "base_uri": "https://localhost:8080/"
        },
        "id": "uWfRiu5sjTnB",
        "outputId": "ddba8b02-20bc-4c7a-e285-b15475598010"
      },
      "outputs": [
        {
          "name": "stdout",
          "output_type": "stream",
          "text": [
            "<div class=\"cabecalho\">\n",
            "<h1>OLA PESSOAL COMO VAI, AQUI É HTML</h1>\n",
            "<p>Oi pessoal eu sou um parágrafo. E estou dentro de uma tag chamada DIV. Ela serve para formatar as partes de um site.</p>\n",
            "</div>\n",
            "<div class=\"conteudo\">\n",
            "<h2>Oi, eu faço um título ficar mais com cara de título!</h2>\n",
            "<ul>\n",
            "<li>\n",
            "<ul>\n",
            "<li class=\"link\"><a href=\"https://amazon.br/python_para_nubbies\" target=\"_blank\">Link1</a></li>\n",
            "<li class=\"titulo\">Python para Nubbies</li>\n",
            "<li class=\"subtitulo\">Python.Lorem Ipsum Dolor amec ist dolor sit dum</li>\n",
            "<li class=\"id_produto\">x1555842</li>\n",
            "<li class=\"preco\">R$150,99</li>\n",
            "</ul>\n",
            "<ul>\n",
            "<li class=\"link\"><a href=\"https://amazon.br/webscrapping\" target=\"_blank\">Link2</a></li>\n",
            "<li class=\"titulo\">Python Webscrapping</li>\n",
            "<li class=\"subtitulo\">Webscrapping Lorem Ipsum Dolor amec ist dolor sit dum.</li>\n",
            "<li class=\"id_produto\">x1555555</li>\n",
            "<li class=\"preco\">R$85,99</li>\n",
            "</ul>\n",
            "<ul>\n",
            "<li class=\"link\"><a href=\"https://amazon.br/html_para_leigos\" target=\"_blank\">Link3</a></li>\n",
            "<li class=\"titulo\">HTML para leigos</li>\n",
            "<li class=\"subtitulo\">HTML para leigos Lorem Ipsum Dolor amec ist dolor sit dum.</li>\n",
            "<li class=\"id_produto\">x1555377</li>\n",
            "<li class=\"preco\">R$55,99</li>\n",
            "</ul>\n",
            "<ul>\n",
            "<li class=\"link\"><a href=\"https://amazon.br/java_e_python\" target=\"_blank\">Link4</a></li>\n",
            "<li class=\"titulo\">JAVA e PYTHON</li>\n",
            "<li class=\"subtitulo\">JAVA e PYTHON Lorem Ipsum Dolor amec ist dolor sit dum.</li>\n",
            "<li class=\"id_produto\">x1555250</li>\n",
            "<li class=\"preco\">R$200,99</li>\n",
            "</ul>\n",
            "</li>\n",
            "</ul>\n",
            "<p class=\"descricao\">Vocês viram o UL e o LI, eles respondem na hora que precisamos escrever listas. Serve muito para menus.</p>\n",
            "</div>\n",
            "<div class=\"rodape\">\n",
            "<h3>Estamos no rodape da pagina. Aqui diria que seria o final do site que está no html.</h3>\n",
            "</div>\n"
          ]
        }
      ],
      "source": [
        "for x in range(len(main.find_all('div'))):\n",
        "  print(main.find_all('div')[x])"
      ]
    },
    {
      "cell_type": "code",
      "execution_count": 7,
      "metadata": {
        "colab": {
          "base_uri": "https://localhost:8080/"
        },
        "id": "ggiAtCGisU-V",
        "outputId": "e7c45c79-eaf0-48e7-e697-628f10282c1a"
      },
      "outputs": [
        {
          "data": {
            "text/plain": [
              "[<ul>\n",
              " <li class=\"link\"><a href=\"https://amazon.br/python_para_nubbies\" target=\"_blank\">Link1</a></li>\n",
              " <li class=\"titulo\">Python para Nubbies</li>\n",
              " <li class=\"subtitulo\">Python.Lorem Ipsum Dolor amec ist dolor sit dum</li>\n",
              " <li class=\"id_produto\">x1555842</li>\n",
              " <li class=\"preco\">R$150,99</li>\n",
              " </ul>,\n",
              " <ul>\n",
              " <li class=\"link\"><a href=\"https://amazon.br/webscrapping\" target=\"_blank\">Link2</a></li>\n",
              " <li class=\"titulo\">Python Webscrapping</li>\n",
              " <li class=\"subtitulo\">Webscrapping Lorem Ipsum Dolor amec ist dolor sit dum.</li>\n",
              " <li class=\"id_produto\">x1555555</li>\n",
              " <li class=\"preco\">R$85,99</li>\n",
              " </ul>,\n",
              " <ul>\n",
              " <li class=\"link\"><a href=\"https://amazon.br/html_para_leigos\" target=\"_blank\">Link3</a></li>\n",
              " <li class=\"titulo\">HTML para leigos</li>\n",
              " <li class=\"subtitulo\">HTML para leigos Lorem Ipsum Dolor amec ist dolor sit dum.</li>\n",
              " <li class=\"id_produto\">x1555377</li>\n",
              " <li class=\"preco\">R$55,99</li>\n",
              " </ul>,\n",
              " <ul>\n",
              " <li class=\"link\"><a href=\"https://amazon.br/java_e_python\" target=\"_blank\">Link4</a></li>\n",
              " <li class=\"titulo\">JAVA e PYTHON</li>\n",
              " <li class=\"subtitulo\">JAVA e PYTHON Lorem Ipsum Dolor amec ist dolor sit dum.</li>\n",
              " <li class=\"id_produto\">x1555250</li>\n",
              " <li class=\"preco\">R$200,99</li>\n",
              " </ul>]"
            ]
          },
          "execution_count": 7,
          "metadata": {},
          "output_type": "execute_result"
        }
      ],
      "source": [
        "main.find('div', {'class':'conteudo'}).ul.find_all('ul')"
      ]
    },
    {
      "cell_type": "code",
      "execution_count": null,
      "metadata": {
        "id": "WTWjoiD2Ukj_"
      },
      "outputs": [],
      "source": [
        "texto = bs.find('div', {'class':'cabecalho'}).p.text #get_text() "
      ]
    },
    {
      "cell_type": "code",
      "execution_count": 9,
      "metadata": {
        "colab": {
          "base_uri": "https://localhost:8080/"
        },
        "id": "ZoSZIkQKRV1n",
        "outputId": "404308b3-514d-425d-ef79-7f633b01a374"
      },
      "outputs": [
        {
          "name": "stdout",
          "output_type": "stream",
          "text": [
            "Oi pessoal eu sou um parágrafo. E estou dentro de uma tag chamada DIV. Ela serve para formatar as partes de um site.\n"
          ]
        }
      ],
      "source": [
        "print(texto)"
      ]
    },
    {
      "cell_type": "markdown",
      "metadata": {
        "id": "MlSh1cTKQQVf"
      },
      "source": [
        "## Entendendo um pouco mais...\n",
        "\n",
        "[DOCUMENTACAO OFICIAL](https://beautiful-soup-4.readthedocs.io/en/latest/)"
      ]
    },
    {
      "cell_type": "markdown",
      "metadata": {
        "id": "0Z_hEf3eUuzF"
      },
      "source": [
        "### Vamos adentrar as tags começando pela tag HTML"
      ]
    },
    {
      "cell_type": "markdown",
      "metadata": {
        "id": "U1Ern2SxIfUl"
      },
      "source": [
        "### NAVEGACAO PELA ÁRVORE"
      ]
    },
    {
      "cell_type": "code",
      "execution_count": null,
      "metadata": {
        "colab": {
          "base_uri": "https://localhost:8080/"
        },
        "id": "h-W2PMnuPaqJ",
        "outputId": "523ea1f7-e08b-470c-c7d0-74bd584fd791"
      },
      "outputs": [
        {
          "name": "stdout",
          "output_type": "stream",
          "text": [
            "<html>\n",
            "<head><meta/>\n",
            "<meta/>\n",
            "<meta/>\n",
            "<title>ESSE AQUI É O TÍTULO DESTA PÁGINA</title>\n",
            "<javascript></javascript>\n",
            "<javascript></javascript>\n",
            "<javascript></javascript>\n",
            "<style>\r\n",
            "        body {\r\n",
            "            color:blue;\r\n",
            "            padding: 0px;\r\n",
            "            margin: 0px;\r\n",
            "        }\r\n",
            "        p {color: brown; font-size: 1.3em; font-family: 'Courier New', Courier, monospace;} \r\n",
            "        h1 {color: blue; font-size: 25px; font-family: 'Gill Sans', 'Gill Sans MT', Calibri, 'Trebuchet MS', sans-serif; }\r\n",
            "        h2 {color: black; font-size: 15px;}\r\n",
            "\r\n",
            "        #main {\r\n",
            "            width: 50%;\r\n",
            "            padding: 5px;\r\n",
            "            margin:5px;\r\n",
            "            text-align: left;\r\n",
            "        }\r\n",
            "    </style>\n",
            "</head><body>\n",
            "<div id=\"main\">\n",
            "<div class=\"cabecalho\">\n",
            "<h1>OLA PESSOAL COMO VAI, AQUI É HTML</h1>\n",
            "<p>Oi pessoal eu sou um parágrafo. E estou dentro de uma tag chamada DIV. Ela serve para formatar as partes de um site.</p>\n",
            "</div>\n",
            "<div class=\"conteudo\">\n",
            "<h2>Oi, eu faço um título ficar mais com cara de título!</h2>\n",
            "<ul>\n",
            "<li>\n",
            "<ul>\n",
            "<li class=\"link\"><a href=\"https://amazon.br/python_para_nubbies\" target=\"_blank\">Link1</a></li>\n",
            "<li class=\"titulo\">Python para Nubbies</li>\n",
            "<li class=\"subtitulo\">Python.Lorem Ipsum Dolor amec ist dolor sit dum</li>\n",
            "<li class=\"id_produto\">x1555842</li>\n",
            "<li class=\"preco\">R$150,99</li>\n",
            "</ul>\n",
            "</li>\n",
            "<li>\n",
            "<ul>\n",
            "<li class=\"link\"><a href=\"https://amazon.br/webscrapping\" target=\"_blank\">Link2</a></li>\n",
            "<li class=\"titulo\">Python Webscrapping</li>\n",
            "<li class=\"subtitulo\">Webscrapping Lorem Ipsum Dolor amec ist dolor sit dum.</li>\n",
            "<li class=\"id_produto\">x1555555</li>\n",
            "<li class=\"preco\">R$85,99</li>\n",
            "</ul>\n",
            "</li>\n",
            "<li>\n",
            "<ul>\n",
            "<li class=\"link\"><a href=\"https://amazon.br/html_para_leigos\" target=\"_blank\">Link3</a></li>\n",
            "<li class=\"titulo\">HTML para leigos</li>\n",
            "<li class=\"subtitulo\">HTML para leigos Lorem Ipsum Dolor amec ist dolor sit dum.</li>\n",
            "<li class=\"id_produto\">x1555377</li>\n",
            "<li class=\"preco\">R$55,99</li>\n",
            "</ul>\n",
            "</li>\n",
            "<li>\n",
            "<ul>\n",
            "<li class=\"link\"><a href=\"https://amazon.br/java_e_python\" target=\"_blank\">Link4</a></li>\n",
            "<li class=\"titulo\">JAVA e PYTHON</li>\n",
            "<li class=\"subtitulo\">JAVA e PYTHON Lorem Ipsum Dolor amec ist dolor sit dum.</li>\n",
            "<li class=\"id_produto\">x1555250</li>\n",
            "<li class=\"preco\">R$200,99</li>\n",
            "</ul>\n",
            "</li>\n",
            "</ul>\n",
            "<p class=\"descricao\">Vocês viram o UL e o LI, eles respondem na hora que precisamos escrever listas. Serve muito para menus.</p>\n",
            "</div>\n",
            "<div class=\"rodape\">\n",
            "<h3>Estamos no rodape da pagina. Aqui diria que seria o final do site que está no html.</h3>\n",
            "</div>\n",
            "</div>\n",
            "</body>\n",
            "</html>\n"
          ]
        }
      ],
      "source": [
        "# nó mais amplo que existe é o HTML\n",
        "print(bs.html)\n",
        "\n",
        "# nó inicial do conteúdo da página - BODY\n",
        "#print(bs.body)\n",
        "\n",
        "# div são usadas para dar estrutura do ambiente\n",
        "#print(bs.XXX)"
      ]
    },
    {
      "cell_type": "code",
      "execution_count": null,
      "metadata": {
        "colab": {
          "base_uri": "https://localhost:8080/"
        },
        "id": "1-b71EU3IqJN",
        "outputId": "25b2ac7c-4673-4ffc-8b48-e0d1f73806d5"
      },
      "outputs": [
        {
          "data": {
            "text/plain": [
              "<h1>OLA PESSOAL COMO VAI, AQUI É HTML</h1>"
            ]
          },
          "execution_count": 277,
          "metadata": {},
          "output_type": "execute_result"
        }
      ],
      "source": [
        "#bs.p\n",
        "#bs.a\n",
        "#bs.h1\n",
        "#bs.title\n",
        "#bs.title.contents\n",
        "#filhos_head = [i for i in bs.head.children]\n",
        "#filhos_head\n",
        "#type(bs.head.parent)\n",
        "#type(bs.head.parents) #pode iterar"
      ]
    },
    {
      "cell_type": "code",
      "execution_count": 10,
      "metadata": {
        "colab": {
          "base_uri": "https://localhost:8080/"
        },
        "id": "r6023sz-VvCv",
        "outputId": "1138fed6-10b1-4cff-9fbe-2dd11e2c6c29"
      },
      "outputs": [
        {
          "name": "stdout",
          "output_type": "stream",
          "text": [
            "1) Find\n",
            "<class 'bs4.element.Tag'>\n",
            "<p>Oi pessoal eu sou um parágrafo. E estou dentro de uma tag chamada DIV. Ela serve para formatar as partes de um site.</p>\n",
            "1\n",
            "\n",
            "2) Find all\n",
            "<class 'bs4.element.ResultSet'>\n",
            "[<p>Oi pessoal eu sou um parágrafo. E estou dentro de uma tag chamada DIV. Ela serve para formatar as partes de um site.</p>, <p class=\"descricao\">Vocês viram o UL e o LI, eles respondem na hora que precisamos escrever listas. Serve muito para menus.</p>]\n",
            "2\n",
            "[<a href=\"https://amazon.br/python_para_nubbies\" target=\"_blank\">Link1</a>, <a href=\"https://amazon.br/webscrapping\" target=\"_blank\">Link2</a>, <a href=\"https://amazon.br/html_para_leigos\" target=\"_blank\">Link3</a>, <a href=\"https://amazon.br/java_e_python\" target=\"_blank\">Link4</a>]\n",
            "\n",
            "3) Paragrafo: <p>Oi pessoal eu sou um parágrafo. E estou dentro de uma tag chamada DIV. Ela serve para formatar as partes de um site.</p>\n"
          ]
        }
      ],
      "source": [
        "from bs4.element import ResultSet\n",
        "# findAll(tag, attrs, text, limit, keywords)\n",
        "# find(tag, attrs, text, keywords)\n",
        "#DIFERENCAS DE TYPE RESPONSE\n",
        "\n",
        "print('1) Find') #Element.TAG\n",
        "paragrafo = bs.find('p')\n",
        "print(type(paragrafo))\n",
        "print(paragrafo)\n",
        "print(len(paragrafo))\n",
        "\n",
        "print('\\n2) Find all') #ResultSet\n",
        "#paragrafo = bs.find_all('p', limit=1)\n",
        "paragrafo = bs.find_all('p')\n",
        "print(type(paragrafo))\n",
        "print(paragrafo)\n",
        "print(len(paragrafo))\n",
        "\n",
        "print(bs.find('div', {'class':'conteudo'}).find_all('a'))\n",
        "\n",
        "# OBJETO CRIADO PELO find_all ResultSet = array, lista...\n",
        "print(f'\\n3) Paragrafo: {paragrafo[0]}')"
      ]
    },
    {
      "cell_type": "markdown",
      "metadata": {
        "id": "6N4iwdYzQ53l"
      },
      "source": [
        "## Irmaos"
      ]
    },
    {
      "cell_type": "markdown",
      "metadata": {
        "id": "NsQq0dXUem7y"
      },
      "source": [
        "### findPreviousSiblings() / findNextSiblings()"
      ]
    },
    {
      "cell_type": "code",
      "execution_count": 15,
      "metadata": {
        "colab": {
          "base_uri": "https://localhost:8080/"
        },
        "id": "tfyZiJFxBWRe",
        "outputId": "8090afff-24fc-4e50-9fb3-ce3e3982da95"
      },
      "outputs": [
        {
          "data": {
            "text/plain": [
              "<div id=\"main\">\n",
              "<div class=\"cabecalho\">\n",
              "<h1>OLA PESSOAL COMO VAI, AQUI É HTML</h1>\n",
              "<p>Oi pessoal eu sou um parágrafo. E estou dentro de uma tag chamada DIV. Ela serve para formatar as partes de um site.</p>\n",
              "</div>\n",
              "<div class=\"conteudo\">\n",
              "<h2>Oi, eu faço um título ficar mais com cara de título!</h2>\n",
              "<ul>\n",
              "<li>\n",
              "<ul>\n",
              "<li class=\"link\"><a href=\"https://amazon.br/python_para_nubbies\" target=\"_blank\">Link1</a></li>\n",
              "<li class=\"titulo\">Python para Nubbies</li>\n",
              "<li class=\"subtitulo\">Python.Lorem Ipsum Dolor amec ist dolor sit dum</li>\n",
              "<li class=\"id_produto\">x1555842</li>\n",
              "<li class=\"preco\">R$150,99</li>\n",
              "</ul>\n",
              "<ul>\n",
              "<li class=\"link\"><a href=\"https://amazon.br/webscrapping\" target=\"_blank\">Link2</a></li>\n",
              "<li class=\"titulo\">Python Webscrapping</li>\n",
              "<li class=\"subtitulo\">Webscrapping Lorem Ipsum Dolor amec ist dolor sit dum.</li>\n",
              "<li class=\"id_produto\">x1555555</li>\n",
              "<li class=\"preco\">R$85,99</li>\n",
              "</ul>\n",
              "<ul>\n",
              "<li class=\"link\"><a href=\"https://amazon.br/html_para_leigos\" target=\"_blank\">Link3</a></li>\n",
              "<li class=\"titulo\">HTML para leigos</li>\n",
              "<li class=\"subtitulo\">HTML para leigos Lorem Ipsum Dolor amec ist dolor sit dum.</li>\n",
              "<li class=\"id_produto\">x1555377</li>\n",
              "<li class=\"preco\">R$55,99</li>\n",
              "</ul>\n",
              "<ul>\n",
              "<li class=\"link\"><a href=\"https://amazon.br/java_e_python\" target=\"_blank\">Link4</a></li>\n",
              "<li class=\"titulo\">JAVA e PYTHON</li>\n",
              "<li class=\"subtitulo\">JAVA e PYTHON Lorem Ipsum Dolor amec ist dolor sit dum.</li>\n",
              "<li class=\"id_produto\">x1555250</li>\n",
              "<li class=\"preco\">R$200,99</li>\n",
              "</ul>\n",
              "</li>\n",
              "</ul>\n",
              "<p class=\"descricao\">Vocês viram o UL e o LI, eles respondem na hora que precisamos escrever listas. Serve muito para menus.</p>\n",
              "</div>\n",
              "<div class=\"rodape\">\n",
              "<h3>Estamos no rodape da pagina. Aqui diria que seria o final do site que está no html.</h3>\n",
              "</div>\n",
              "</div>"
            ]
          },
          "execution_count": 15,
          "metadata": {},
          "output_type": "execute_result"
        }
      ],
      "source": [
        "bs.div"
      ]
    },
    {
      "cell_type": "code",
      "execution_count": 16,
      "metadata": {
        "colab": {
          "base_uri": "https://localhost:8080/"
        },
        "id": "L7s5K6IDGhJv",
        "outputId": "37517110-f218-4c34-9474-699fb0d57c46"
      },
      "outputs": [
        {
          "name": "stdout",
          "output_type": "stream",
          "text": [
            "[<div class=\"cabecalho\">\n",
            "<h1>OLA PESSOAL COMO VAI, AQUI É HTML</h1>\n",
            "<p>Oi pessoal eu sou um parágrafo. E estou dentro de uma tag chamada DIV. Ela serve para formatar as partes de um site.</p>\n",
            "</div>]\n",
            "[<div class=\"rodape\">\n",
            "<h3>Estamos no rodape da pagina. Aqui diria que seria o final do site que está no html.</h3>\n",
            "</div>] <class 'bs4.element.ResultSet'>\n"
          ]
        }
      ],
      "source": [
        "irmaoMaisVelho = bs.find('div', {'class':'conteudo'}).findPreviousSiblings()\n",
        "irmaoMaisNovo = bs.find('div', {'class':'conteudo'}).findNextSiblings()\n",
        "print(irmaoMaisVelho)\n",
        "print(irmaoMaisNovo, type(irmaoMaisNovo))"
      ]
    },
    {
      "cell_type": "code",
      "execution_count": 17,
      "metadata": {
        "colab": {
          "base_uri": "https://localhost:8080/",
          "height": 137
        },
        "id": "ueTU96tUF6mP",
        "outputId": "c140f1ca-f0ab-48d3-959b-c1910b263447"
      },
      "outputs": [
        {
          "data": {
            "text/html": [
              "<div style=\"max-width:800px; border: 1px solid var(--colab-border-color);\"><style>\n",
              "      pre.function-repr-contents {\n",
              "        overflow-x: auto;\n",
              "        padding: 8px 12px;\n",
              "        max-height: 500px;\n",
              "      }\n",
              "\n",
              "      pre.function-repr-contents.function-repr-contents-collapsed {\n",
              "        cursor: pointer;\n",
              "        max-height: 100px;\n",
              "      }\n",
              "    </style>\n",
              "    <pre style=\"white-space: initial; background:\n",
              "         var(--colab-secondary-surface-color); padding: 8px 12px;\n",
              "         border-bottom: 1px solid var(--colab-border-color);\"><b>bs4.element.ResultSet</b><br/>def __init__(source, result=())</pre><pre class=\"function-repr-contents function-repr-contents-collapsed\" style=\"\"><a class=\"filepath\" style=\"display:none\" href=\"#\">/usr/local/lib/python3.10/dist-packages/bs4/element.py</a>A ResultSet is just a list that keeps track of the SoupStrainer\n",
              "that created it.</pre>\n",
              "      <script>\n",
              "      if (google.colab.kernel.accessAllowed && google.colab.files && google.colab.files.view) {\n",
              "        for (const element of document.querySelectorAll('.filepath')) {\n",
              "          element.style.display = 'block'\n",
              "          element.onclick = (event) => {\n",
              "            event.preventDefault();\n",
              "            event.stopPropagation();\n",
              "            google.colab.files.view(element.textContent, 2419);\n",
              "          };\n",
              "        }\n",
              "      }\n",
              "      for (const element of document.querySelectorAll('.function-repr-contents')) {\n",
              "        element.onclick = (event) => {\n",
              "          event.preventDefault();\n",
              "          event.stopPropagation();\n",
              "          element.classList.toggle('function-repr-contents-collapsed');\n",
              "        };\n",
              "      }\n",
              "      </script>\n",
              "      </div>"
            ],
            "text/plain": [
              "bs4.element.ResultSet"
            ]
          },
          "execution_count": 17,
          "metadata": {},
          "output_type": "execute_result"
        }
      ],
      "source": [
        "type(irmaoMaisNovo)"
      ]
    },
    {
      "cell_type": "code",
      "execution_count": 18,
      "metadata": {
        "colab": {
          "base_uri": "https://localhost:8080/"
        },
        "id": "xORVBR72M5I9",
        "outputId": "7fdd6ead-4b03-477c-d81c-f77b9d21a512"
      },
      "outputs": [
        {
          "data": {
            "text/plain": [
              "<div class=\"rodape\">\n",
              "<h3>Estamos no rodape da pagina. Aqui diria que seria o final do site que está no html.</h3>\n",
              "</div>"
            ]
          },
          "execution_count": 18,
          "metadata": {},
          "output_type": "execute_result"
        }
      ],
      "source": [
        "irmaoMaisNovo[0]"
      ]
    },
    {
      "cell_type": "code",
      "execution_count": 19,
      "metadata": {
        "colab": {
          "base_uri": "https://localhost:8080/",
          "height": 36
        },
        "id": "FS1xcRf0rG5l",
        "outputId": "61e59cca-74b3-4b63-904f-ee0ddf4fb66d"
      },
      "outputs": [
        {
          "data": {
            "application/vnd.google.colaboratory.intrinsic+json": {
              "type": "string"
            },
            "text/plain": [
              "'Estamos no rodape da pagina. Aqui diria que seria o final do site que está no html.'"
            ]
          },
          "execution_count": 19,
          "metadata": {},
          "output_type": "execute_result"
        }
      ],
      "source": [
        "irmaoMaisNovo[0].h3.text"
      ]
    },
    {
      "cell_type": "markdown",
      "metadata": {
        "id": "cde9TSAEjlR8"
      },
      "source": [
        "### next e previous siblings diferença está na saída (generator)"
      ]
    },
    {
      "cell_type": "code",
      "execution_count": 20,
      "metadata": {
        "colab": {
          "base_uri": "https://localhost:8080/"
        },
        "id": "iiK9bXAhNO_M",
        "outputId": "b876892a-1114-42d4-8998-1276aa38a539"
      },
      "outputs": [
        {
          "data": {
            "text/plain": [
              "<generator object PageElement.next_siblings at 0x780ed2e3cf90>"
            ]
          },
          "execution_count": 20,
          "metadata": {},
          "output_type": "execute_result"
        }
      ],
      "source": [
        "bs.find('div', {'class':'conteudo'}).next_siblings"
      ]
    },
    {
      "cell_type": "code",
      "execution_count": 21,
      "metadata": {
        "colab": {
          "base_uri": "https://localhost:8080/"
        },
        "id": "1iCsoOUgizUK",
        "outputId": "e1cc07c3-cd38-4463-bfab-c05927860411"
      },
      "outputs": [
        {
          "name": "stdout",
          "output_type": "stream",
          "text": [
            "\n",
            "\n",
            "<div class=\"cabecalho\">\n",
            "<h1>OLA PESSOAL COMO VAI, AQUI É HTML</h1>\n",
            "<p>Oi pessoal eu sou um parágrafo. E estou dentro de uma tag chamada DIV. Ela serve para formatar as partes de um site.</p>\n",
            "</div>\n",
            "\n",
            "\n",
            "\n",
            "\n",
            "<div class=\"rodape\">\n",
            "<h3>Estamos no rodape da pagina. Aqui diria que seria o final do site que está no html.</h3>\n",
            "</div>\n",
            "\n",
            "\n"
          ]
        }
      ],
      "source": [
        "for i in bs.find('div', {'class':'conteudo'}).previous_siblings:\n",
        "  print(i)\n",
        "\n",
        "for i in bs.find('div', {'class':'conteudo'}).next_siblings:\n",
        "  print(i)"
      ]
    },
    {
      "cell_type": "markdown",
      "metadata": {
        "id": "WbcTQs6RF6rK"
      },
      "source": [
        "### Usando o next_siblings e o next() para percorrer"
      ]
    },
    {
      "cell_type": "code",
      "execution_count": 28,
      "metadata": {
        "id": "O9xrVBXijvds"
      },
      "outputs": [],
      "source": [
        "irmaos = bs.find('div', {'class':'conteudo'}).find('h2').next_siblings"
      ]
    },
    {
      "cell_type": "code",
      "execution_count": 29,
      "metadata": {
        "id": "EVky5Gcuj-t6"
      },
      "outputs": [],
      "source": [
        "parentes = []\n",
        "while True:\n",
        "  try:\n",
        "    parentes.append(next(irmaos))\n",
        "  except StopIteration:\n",
        "    break"
      ]
    },
    {
      "cell_type": "code",
      "execution_count": 30,
      "metadata": {
        "colab": {
          "base_uri": "https://localhost:8080/"
        },
        "id": "ahS13FRzsfIE",
        "outputId": "afa825a3-5340-4d4d-c657-b9feb9bf6bcf"
      },
      "outputs": [
        {
          "data": {
            "text/plain": [
              "['\\n',\n",
              " <ul>\n",
              " <li>\n",
              " <ul>\n",
              " <li class=\"link\"><a href=\"https://amazon.br/python_para_nubbies\" target=\"_blank\">Link1</a></li>\n",
              " <li class=\"titulo\">Python para Nubbies</li>\n",
              " <li class=\"subtitulo\">Python.Lorem Ipsum Dolor amec ist dolor sit dum</li>\n",
              " <li class=\"id_produto\">x1555842</li>\n",
              " <li class=\"preco\">R$150,99</li>\n",
              " </ul>\n",
              " <ul>\n",
              " <li class=\"link\"><a href=\"https://amazon.br/webscrapping\" target=\"_blank\">Link2</a></li>\n",
              " <li class=\"titulo\">Python Webscrapping</li>\n",
              " <li class=\"subtitulo\">Webscrapping Lorem Ipsum Dolor amec ist dolor sit dum.</li>\n",
              " <li class=\"id_produto\">x1555555</li>\n",
              " <li class=\"preco\">R$85,99</li>\n",
              " </ul>\n",
              " <ul>\n",
              " <li class=\"link\"><a href=\"https://amazon.br/html_para_leigos\" target=\"_blank\">Link3</a></li>\n",
              " <li class=\"titulo\">HTML para leigos</li>\n",
              " <li class=\"subtitulo\">HTML para leigos Lorem Ipsum Dolor amec ist dolor sit dum.</li>\n",
              " <li class=\"id_produto\">x1555377</li>\n",
              " <li class=\"preco\">R$55,99</li>\n",
              " </ul>\n",
              " <ul>\n",
              " <li class=\"link\"><a href=\"https://amazon.br/java_e_python\" target=\"_blank\">Link4</a></li>\n",
              " <li class=\"titulo\">JAVA e PYTHON</li>\n",
              " <li class=\"subtitulo\">JAVA e PYTHON Lorem Ipsum Dolor amec ist dolor sit dum.</li>\n",
              " <li class=\"id_produto\">x1555250</li>\n",
              " <li class=\"preco\">R$200,99</li>\n",
              " </ul>\n",
              " </li>\n",
              " </ul>,\n",
              " '\\n',\n",
              " <p class=\"descricao\">Vocês viram o UL e o LI, eles respondem na hora que precisamos escrever listas. Serve muito para menus.</p>,\n",
              " '\\n']"
            ]
          },
          "execution_count": 30,
          "metadata": {},
          "output_type": "execute_result"
        }
      ],
      "source": [
        "parentes"
      ]
    },
    {
      "cell_type": "markdown",
      "metadata": {
        "id": "CBPTXNtXPZbd"
      },
      "source": [
        "#### Capturando link e texto do link"
      ]
    },
    {
      "cell_type": "code",
      "execution_count": 31,
      "metadata": {
        "colab": {
          "base_uri": "https://localhost:8080/"
        },
        "id": "XgihPuYwoZIN",
        "outputId": "a23c5016-2358-4962-a093-f71af5a9babb"
      },
      "outputs": [
        {
          "name": "stdout",
          "output_type": "stream",
          "text": [
            "https://amazon.br/python_para_nubbies, Link1\n"
          ]
        }
      ],
      "source": [
        "# pegando o link da tag <a> no atributo href\n",
        "link = parentes[1].find_all('ul')[0].find('li', {'class':'link'}).find('a').attrs['href']\n",
        "# pegando o texto da tag <a>\n",
        "txt_link = parentes[1].find_all('ul')[0].find('li', {'class':'link'}).find('a').text\n",
        "\n",
        "print(f'{link}, {txt_link}')"
      ]
    },
    {
      "cell_type": "markdown",
      "metadata": {
        "id": "q7BcbmDsXBpD"
      },
      "source": [
        "#### Capturando o nome da Class"
      ]
    },
    {
      "cell_type": "code",
      "execution_count": 32,
      "metadata": {
        "colab": {
          "base_uri": "https://localhost:8080/"
        },
        "id": "OC0Qp6it88h4",
        "outputId": "896ca0d3-fd76-4ac7-ac94-94539feeef08"
      },
      "outputs": [
        {
          "name": "stdout",
          "output_type": "stream",
          "text": [
            "achou\n"
          ]
        }
      ],
      "source": [
        "filhos = parentes[1].find_all('ul')\n",
        "for y in range(len(filhos[x].find_all('li'))):\n",
        "  if 'link' == filhos[0].find_all('li')[y].attrs['class'][0]:\n",
        "    print('achou')"
      ]
    },
    {
      "cell_type": "markdown",
      "metadata": {
        "id": "DzZDrfiffYfw"
      },
      "source": [
        "### Encontro um ponto de partida no html dentro da TAG pai"
      ]
    },
    {
      "cell_type": "code",
      "execution_count": 33,
      "metadata": {
        "colab": {
          "base_uri": "https://localhost:8080/",
          "height": 36
        },
        "id": "ChMGdmekfXpm",
        "outputId": "6cfc9120-fd6b-47d5-958a-500bdbc6404d"
      },
      "outputs": [
        {
          "data": {
            "application/vnd.google.colaboratory.intrinsic+json": {
              "type": "string"
            },
            "text/plain": [
              "'\\nLink1\\nPython para Nubbies\\nPython.Lorem Ipsum Dolor amec ist dolor sit dum\\nx1555842\\nR$150,99\\n'"
            ]
          },
          "execution_count": 33,
          "metadata": {},
          "output_type": "execute_result"
        }
      ],
      "source": [
        "pai = bs.find('div', {'class':'conteudo'})\n",
        "pai.find('ul').find_all('ul')[0].text"
      ]
    },
    {
      "cell_type": "markdown",
      "metadata": {
        "id": "mVYBGGmMGONc"
      },
      "source": [
        "#### Usando text ou get_text()"
      ]
    },
    {
      "cell_type": "code",
      "execution_count": 35,
      "metadata": {
        "colab": {
          "base_uri": "https://localhost:8080/",
          "height": 36
        },
        "id": "fS7mMmoYy19v",
        "outputId": "7683450c-a329-4e8f-d966-c1ca41d88f15"
      },
      "outputs": [
        {
          "data": {
            "application/vnd.google.colaboratory.intrinsic+json": {
              "type": "string"
            },
            "text/plain": [
              "'Link1 - Python para Nubbies - Python.Lorem Ipsum Dolor amec ist dolor sit dum - x1555842 - R$150,99'"
            ]
          },
          "execution_count": 35,
          "metadata": {},
          "output_type": "execute_result"
        }
      ],
      "source": [
        "pai.find('ul').find_all('ul')[0].get_text(strip='\\n', separator=' - ')"
      ]
    },
    {
      "cell_type": "markdown",
      "metadata": {
        "id": "jSVAMkyvP7ia"
      },
      "source": [
        "### REGEX"
      ]
    },
    {
      "cell_type": "code",
      "execution_count": 36,
      "metadata": {
        "colab": {
          "base_uri": "https://localhost:8080/"
        },
        "id": "EHZsKVgtP6to",
        "outputId": "59f78bd9-2d5e-4519-b720-ce31177cddf6"
      },
      "outputs": [
        {
          "data": {
            "text/plain": [
              "[]"
            ]
          },
          "execution_count": 36,
          "metadata": {},
          "output_type": "execute_result"
        }
      ],
      "source": [
        "bs.find_all(href=re.compile(\"Python\"))"
      ]
    },
    {
      "cell_type": "code",
      "execution_count": 37,
      "metadata": {
        "colab": {
          "base_uri": "https://localhost:8080/"
        },
        "id": "iCiCBA0cQn53",
        "outputId": "b9e1f553-5355-4f58-c26d-d5b40c3cfaa7"
      },
      "outputs": [
        {
          "data": {
            "text/plain": [
              "[<li class=\"id_produto\">x1555842</li>,\n",
              " <li class=\"id_produto\">x1555555</li>,\n",
              " <li class=\"id_produto\">x1555377</li>,\n",
              " <li class=\"id_produto\">x1555250</li>,\n",
              " <div class=\"rodape\">\n",
              " <h3>Estamos no rodape da pagina. Aqui diria que seria o final do site que está no html.</h3>\n",
              " </div>]"
            ]
          },
          "execution_count": 37,
          "metadata": {},
          "output_type": "execute_result"
        }
      ],
      "source": [
        "bs.find_all(class_=re.compile(\"rod\"))"
      ]
    },
    {
      "cell_type": "markdown",
      "metadata": {
        "id": "eP3jc0s3vG86"
      },
      "source": [
        "## Para alunos\n",
        "\n",
        "Exercicio 1 na classe rodape pegar o texto de h3 depois imprimir <br />\n",
        "Exercicio 2 na classe conteudo pegar o texto de h2 depois imprimir\n",
        "Exercicio 3 na classe conteudo pegar os links"
      ]
    },
    {
      "cell_type": "code",
      "execution_count": null,
      "metadata": {
        "id": "zJSEhVEuu7mv"
      },
      "outputs": [],
      "source": [
        "# exercicio 1\n",
        "bs.find('div', {'class': 'rodape'}).find('h3').text\n"
      ]
    },
    {
      "cell_type": "code",
      "execution_count": null,
      "metadata": {
        "id": "vJNydkivv0tU"
      },
      "outputs": [],
      "source": [
        "# exercicio 2\n",
        "bs.find('div', {'class': 'conteudo'}).find('h2').text"
      ]
    },
    {
      "cell_type": "code",
      "execution_count": null,
      "metadata": {},
      "outputs": [],
      "source": [
        "# exercicio 3\n",
        "bs.find('div', {'class': 'conteudo'}).find_all('div', {'class': 'link'}).text"
      ]
    },
    {
      "cell_type": "markdown",
      "metadata": {
        "id": "t0VFTRdfSl5e"
      },
      "source": [
        "Agora preciso do texto em lista, como fazer? Use a funcao split()"
      ]
    },
    {
      "cell_type": "code",
      "execution_count": 38,
      "metadata": {
        "colab": {
          "base_uri": "https://localhost:8080/"
        },
        "id": "ATZ-PQ3xEm-q",
        "outputId": "e7fefe00-3e21-40a0-b1ea-57741b90ab41"
      },
      "outputs": [
        {
          "name": "stdout",
          "output_type": "stream",
          "text": [
            "['Oi', 'pessoal', 'eu', 'sou', 'um', 'parágrafo.', 'E', 'estou', 'dentro', 'de', 'uma', 'tag', 'chamada', 'DIV.', 'Ela', 'serve', 'para', 'formatar', 'as', 'partes', 'de', 'um', 'site.']\n"
          ]
        }
      ],
      "source": [
        "lista = texto.split(' ')\n",
        "print(lista)"
      ]
    },
    {
      "cell_type": "markdown",
      "metadata": {
        "id": "ZrL6IsmD6yS_"
      },
      "source": [
        "#### Um pouco de python\n",
        "\n",
        "\n",
        "\n",
        "1.   Achar palavras na lista com mais de 5 caracteres\n",
        "2.   E jogar como lista em print\n",
        "\n"
      ]
    },
    {
      "cell_type": "markdown",
      "metadata": {
        "id": "vLvp6bI-7D31"
      },
      "source": [
        "#### Resolve"
      ]
    },
    {
      "cell_type": "code",
      "execution_count": 39,
      "metadata": {
        "colab": {
          "base_uri": "https://localhost:8080/"
        },
        "id": "prPHMkun5xyF",
        "outputId": "533ec329-c9d3-4d5c-9854-2d340065c423"
      },
      "outputs": [
        {
          "name": "stdout",
          "output_type": "stream",
          "text": [
            "['pessoal', 'parágrafo.', 'dentro', 'chamada', 'formatar', 'partes']\n"
          ]
        }
      ],
      "source": [
        "palavra_maior_5 = []\n",
        "for p in lista:\n",
        "  if len(p) > 5:\n",
        "    palavra_maior_5.append(p)\n",
        "\n",
        "print(palavra_maior_5)"
      ]
    },
    {
      "cell_type": "markdown",
      "metadata": {
        "id": "DVb4l1zF5zwM"
      },
      "source": [
        "#### Jeito de fazer"
      ]
    },
    {
      "cell_type": "code",
      "execution_count": 40,
      "metadata": {
        "colab": {
          "base_uri": "https://localhost:8080/"
        },
        "id": "jufjVBZ5v97s",
        "outputId": "d07cde45-5f4d-41d0-ee94-b2eb635e27e2"
      },
      "outputs": [
        {
          "data": {
            "text/plain": [
              "['pessoal', 'parágrafo.', 'dentro', 'chamada', 'formatar', 'partes']"
            ]
          },
          "execution_count": 40,
          "metadata": {},
          "output_type": "execute_result"
        }
      ],
      "source": [
        "def filtra_palavra_5_tam(palavra):\n",
        "  if len(palavra) > 5:\n",
        "    return palavra\n",
        "\n",
        "a = list(filter(lambda x: x is not None , map(filtra_palavra_5_tam, lista)))\n",
        "list(a)"
      ]
    },
    {
      "cell_type": "markdown",
      "metadata": {
        "id": "UZ3Ziqr06lqH"
      },
      "source": [
        "#### Outro jeito de fazer"
      ]
    },
    {
      "cell_type": "code",
      "execution_count": 41,
      "metadata": {
        "colab": {
          "base_uri": "https://localhost:8080/"
        },
        "id": "C5vebmmi6Bav",
        "outputId": "f19b8fcd-bbc6-4839-ce63-d736022773d4"
      },
      "outputs": [
        {
          "data": {
            "text/plain": [
              "['pessoal', 'parágrafo.', 'dentro', 'chamada', 'formatar', 'partes']"
            ]
          },
          "execution_count": 41,
          "metadata": {},
          "output_type": "execute_result"
        }
      ],
      "source": [
        "list(filter(lambda x: len(x) > 5, lista))"
      ]
    },
    {
      "cell_type": "markdown",
      "metadata": {
        "id": "cNQq7dwXcsZF"
      },
      "source": [
        "#### Buscando uma palavra em uma lista"
      ]
    },
    {
      "cell_type": "code",
      "execution_count": 42,
      "metadata": {
        "colab": {
          "base_uri": "https://localhost:8080/"
        },
        "id": "1pK_ahwpTM3B",
        "outputId": "3e998c95-0d04-4409-e92b-4fe762eabed2"
      },
      "outputs": [
        {
          "name": "stdout",
          "output_type": "stream",
          "text": [
            "OLA PESSOAL COMO VAI, AQUI É HTML\n"
          ]
        }
      ],
      "source": [
        "# Pegar o texto da H1 (lembre-se H1 deve ser único no HTML)\n",
        "# Veja \"se\" existe a palavra \"HTML\" na \"ULTIMA\" POSICAO da lista criada com o \"texto capturado\" em H1\n",
        "# NIVEL BASKET CASE\n",
        "tag_ = bs.find('div', {'class':'cabecalho'})\n",
        "tag_h1 = tag_.h1\n",
        "so_txt_h1 = tag_h1.text\n",
        "print(so_txt_h1)"
      ]
    },
    {
      "cell_type": "code",
      "execution_count": 43,
      "metadata": {
        "colab": {
          "base_uri": "https://localhost:8080/"
        },
        "id": "cUcg9wuOc_w5",
        "outputId": "9098dfe1-a079-4a34-dfaa-843b9605dffc"
      },
      "outputs": [
        {
          "data": {
            "text/plain": [
              "True"
            ]
          },
          "execution_count": 43,
          "metadata": {},
          "output_type": "execute_result"
        }
      ],
      "source": [
        "# LAMBDA\n",
        "X = lambda x: True if x == 'HTML' else False\n",
        "X(so_txt_h1.split(' ')[-1])\n",
        "\n",
        "# OBS.: CONSIGO PASSAR MAIS DE UM VALOR"
      ]
    },
    {
      "cell_type": "code",
      "execution_count": null,
      "metadata": {
        "id": "BYFhZ2KydrWM"
      },
      "outputs": [],
      "source": [
        "# if\n",
        "# if 'HTML' == so_txt_h1.split(' ')[-1]:\n",
        "# print(True)"
      ]
    },
    {
      "cell_type": "code",
      "execution_count": null,
      "metadata": {
        "id": "3wKuW0ifhVy5"
      },
      "outputs": [],
      "source": [
        "# MAS PARA APENAS 1 VALOR PODERIA FAZER ASSIM\n",
        "# Um jeito de fazer enxuto tb usando IN\n",
        "# 'HTML' in so_txt_h1.split(' ')"
      ]
    },
    {
      "cell_type": "markdown",
      "metadata": {
        "id": "pme3wM2HC6m9"
      },
      "source": [
        "## Um pouco mais além..."
      ]
    },
    {
      "cell_type": "code",
      "execution_count": null,
      "metadata": {
        "colab": {
          "base_uri": "https://localhost:8080/"
        },
        "id": "ui7ozwfCz6KF",
        "outputId": "0d7d0102-1b85-468e-c450-bf42eeb65ecf"
      },
      "outputs": [
        {
          "data": {
            "text/plain": [
              "<html>\n",
              "<head><meta/>\n",
              "<meta/>\n",
              "<meta/>\n",
              "<javascript></javascript>\n",
              "<javascript></javascript>\n",
              "<javascript></javascript>\n",
              "<style>\n",
              "        body {\n",
              "            color:blue;\n",
              "            padding: 0px;\n",
              "            margin: 0px;\n",
              "        }\n",
              "        p {color: brown; font-size: 1.3em; font-family: 'Courier New', Courier, monospace;} \n",
              "        h1 {color: blue; font-size: 25px; font-family: 'Gill Sans', 'Gill Sans MT', Calibri, 'Trebuchet MS', sans-serif; }\n",
              "        h2 {color: black; font-size: 15px;}\n",
              "\n",
              "        #main {\n",
              "            width: 50%;\n",
              "            padding: 5px;\n",
              "            margin:5px;\n",
              "            text-align: left;\n",
              "        }\n",
              "    </style>\n",
              "</head><body>\n",
              "<div id=\"main\">\n",
              "<div class=\"cabecalho\">\n",
              "<h1>OLA PESSOAL COMO VAI, AQUI É HTML</h1>\n",
              "<p>Oi pessoal eu sou um parágrafo. E estou dentro de uma tag chamada DIV. Ela serve para formatar as partes de um site.</p>\n",
              "</div>\n",
              "<div class=\"conteudo\">\n",
              "<h2>Oi, eu faço um título ficar mais com cara de título!</h2>\n",
              "<ul>\n",
              "<li>\n",
              "<ul>\n",
              "<li class=\"link\"><a href=\"https://amazon.br/python_para_nubbies\" target=\"_blank\">Link1</a></li>\n",
              "<li class=\"titulo\">Python para Nubbies</li>\n",
              "<li class=\"subtitulo\">Python.Lorem Ipsum Dolor amec ist dolor sit dum</li>\n",
              "<li class=\"id_produto\">x1555842</li>\n",
              "<li class=\"preco\">R$150,99</li>\n",
              "</ul>\n",
              "</li>\n",
              "<li>\n",
              "<ul>\n",
              "<li class=\"link\"><a href=\"https://amazon.br/webscrapping\" target=\"_blank\">Link2</a></li>\n",
              "<li class=\"titulo\">Python Webscrapping</li>\n",
              "<li class=\"subtitulo\">Webscrapping Lorem Ipsum Dolor amec ist dolor sit dum.</li>\n",
              "<li class=\"id_produto\">x1555555</li>\n",
              "<li class=\"preco\">R$85,99</li>\n",
              "</ul>\n",
              "</li>\n",
              "<li>\n",
              "<ul>\n",
              "<li class=\"link\"><a href=\"https://amazon.br/html_para_leigos\" target=\"_blank\">Link3</a></li>\n",
              "<li class=\"titulo\">HTML para leigos</li>\n",
              "<li class=\"subtitulo\">HTML para leigos Lorem Ipsum Dolor amec ist dolor sit dum.</li>\n",
              "<li class=\"id_produto\">x1555377</li>\n",
              "<li class=\"preco\">R$55,99</li>\n",
              "</ul>\n",
              "</li>\n",
              "<li>\n",
              "<ul>\n",
              "<li class=\"link\"><a href=\"https://amazon.br/java_e_python\" target=\"_blank\">Link4</a></li>\n",
              "<li class=\"titulo\">JAVA e PYTHON</li>\n",
              "<li class=\"subtitulo\">JAVA e PYTHON Lorem Ipsum Dolor amec ist dolor sit dum.</li>\n",
              "<li class=\"id_produto\">x1555250</li>\n",
              "<li class=\"preco\">R$200,99</li>\n",
              "</ul>\n",
              "</li>\n",
              "</ul>\n",
              "<p class=\"descricao\">Vocês viram o UL e o LI, eles respondem na hora que precisamos escrever listas. Serve muito para menus.</p>\n",
              "</div>\n",
              "<div class=\"rodape\">\n",
              "<h3>Estamos no rodape da pagina. Aqui diria que seria o final do site que está no html.</h3>\n",
              "</div>\n",
              "</div>\n",
              "</body>\n",
              "</html>"
            ]
          },
          "execution_count": 35,
          "metadata": {},
          "output_type": "execute_result"
        }
      ],
      "source": [
        "bs"
      ]
    },
    {
      "cell_type": "code",
      "execution_count": null,
      "metadata": {
        "id": "MJymfbda0F8i"
      },
      "outputs": [],
      "source": [
        "# raciocinio/logica\n",
        "# bs.find('div', {'class':'conteudo'}).find('ul').find_all('ul')[0]"
      ]
    },
    {
      "cell_type": "markdown",
      "metadata": {
        "id": "YebC173rDRGc"
      },
      "source": [
        "### Explicando passo a passo uma extração"
      ]
    },
    {
      "cell_type": "code",
      "execution_count": null,
      "metadata": {
        "id": "cpzqhPOhJW_F"
      },
      "outputs": [],
      "source": [
        "ul_pai = bs.find('div', {'class':'conteudo'}).find('ul')\n",
        "\n",
        "#print(len(cc2.find_all('ul')))\n",
        "\n",
        "textos = []\n",
        "for i in range(len(ul_pai.find_all('ul'))):\n",
        "  filhos = ul_pai.find_all('ul')[i]\n",
        "  texto = []\n",
        "  for filho in filhos:\n",
        "    if filho.name == 'li':\n",
        "      if filho.a:\n",
        "        texto.append(filho.a.attrs['href'])\n",
        "      else:\n",
        "        texto.append(filho.text)\n",
        "\n",
        "  textos.append(texto)\n"
      ]
    },
    {
      "cell_type": "code",
      "execution_count": null,
      "metadata": {
        "colab": {
          "base_uri": "https://localhost:8080/"
        },
        "id": "zXuh2hkZo9TU",
        "outputId": "03a69ea7-f83c-4361-9dd0-6e742474d8ce"
      },
      "outputs": [
        {
          "data": {
            "text/plain": [
              "[['https://amazon.br/python_para_nubbies',\n",
              "  'Python para Nubbies',\n",
              "  'Python.Lorem Ipsum Dolor amec ist dolor sit dum',\n",
              "  'x1555842',\n",
              "  'R$150,99'],\n",
              " ['https://amazon.br/webscrapping',\n",
              "  'Python Webscrapping',\n",
              "  'Webscrapping Lorem Ipsum Dolor amec ist dolor sit dum.',\n",
              "  'x1555555',\n",
              "  'R$85,99'],\n",
              " ['https://amazon.br/html_para_leigos',\n",
              "  'HTML para leigos',\n",
              "  'HTML para leigos Lorem Ipsum Dolor amec ist dolor sit dum.',\n",
              "  'x1555377',\n",
              "  'R$55,99'],\n",
              " ['https://amazon.br/java_e_python',\n",
              "  'JAVA e PYTHON',\n",
              "  'JAVA e PYTHON Lorem Ipsum Dolor amec ist dolor sit dum.',\n",
              "  'x1555250',\n",
              "  'R$200,99']]"
            ]
          },
          "execution_count": 29,
          "metadata": {},
          "output_type": "execute_result"
        }
      ],
      "source": [
        "textos"
      ]
    },
    {
      "cell_type": "markdown",
      "metadata": {
        "id": "wNShrrYTDZuR"
      },
      "source": [
        "### Manda para o Pandas"
      ]
    },
    {
      "cell_type": "code",
      "execution_count": null,
      "metadata": {
        "id": "B_K-1lF6mK0z"
      },
      "outputs": [],
      "source": [
        "import pandas as pd"
      ]
    },
    {
      "cell_type": "code",
      "execution_count": null,
      "metadata": {
        "colab": {
          "base_uri": "https://localhost:8080/",
          "height": 175
        },
        "id": "wBqIHRl3mH00",
        "outputId": "e4e32b71-b4c2-4254-e5dc-8100ec596849"
      },
      "outputs": [
        {
          "data": {
            "text/html": [
              "\n",
              "  <div id=\"df-ab260dc8-d2bc-497f-aa03-b4729eeca6e3\" class=\"colab-df-container\">\n",
              "    <div>\n",
              "<style scoped>\n",
              "    .dataframe tbody tr th:only-of-type {\n",
              "        vertical-align: middle;\n",
              "    }\n",
              "\n",
              "    .dataframe tbody tr th {\n",
              "        vertical-align: top;\n",
              "    }\n",
              "\n",
              "    .dataframe thead th {\n",
              "        text-align: right;\n",
              "    }\n",
              "</style>\n",
              "<table border=\"1\" class=\"dataframe\">\n",
              "  <thead>\n",
              "    <tr style=\"text-align: right;\">\n",
              "      <th></th>\n",
              "      <th>link</th>\n",
              "      <th>titulo</th>\n",
              "      <th>descricao</th>\n",
              "      <th>codigo</th>\n",
              "      <th>preço</th>\n",
              "    </tr>\n",
              "  </thead>\n",
              "  <tbody>\n",
              "    <tr>\n",
              "      <th>0</th>\n",
              "      <td>https://amazon.br/python_para_nubbies</td>\n",
              "      <td>Python para Nubbies</td>\n",
              "      <td>Python.Lorem Ipsum Dolor amec ist dolor sit dum</td>\n",
              "      <td>x1555842</td>\n",
              "      <td>R$150,99</td>\n",
              "    </tr>\n",
              "    <tr>\n",
              "      <th>1</th>\n",
              "      <td>https://amazon.br/webscrapping</td>\n",
              "      <td>Python Webscrapping</td>\n",
              "      <td>Webscrapping Lorem Ipsum Dolor amec ist dolor ...</td>\n",
              "      <td>x1555555</td>\n",
              "      <td>R$85,99</td>\n",
              "    </tr>\n",
              "    <tr>\n",
              "      <th>2</th>\n",
              "      <td>https://amazon.br/html_para_leigos</td>\n",
              "      <td>HTML para leigos</td>\n",
              "      <td>HTML para leigos Lorem Ipsum Dolor amec ist do...</td>\n",
              "      <td>x1555377</td>\n",
              "      <td>R$55,99</td>\n",
              "    </tr>\n",
              "    <tr>\n",
              "      <th>3</th>\n",
              "      <td>https://amazon.br/java_e_python</td>\n",
              "      <td>JAVA e PYTHON</td>\n",
              "      <td>JAVA e PYTHON Lorem Ipsum Dolor amec ist dolor...</td>\n",
              "      <td>x1555250</td>\n",
              "      <td>R$200,99</td>\n",
              "    </tr>\n",
              "  </tbody>\n",
              "</table>\n",
              "</div>\n",
              "    <div class=\"colab-df-buttons\">\n",
              "\n",
              "  <div class=\"colab-df-container\">\n",
              "    <button class=\"colab-df-convert\" onclick=\"convertToInteractive('df-ab260dc8-d2bc-497f-aa03-b4729eeca6e3')\"\n",
              "            title=\"Convert this dataframe to an interactive table.\"\n",
              "            style=\"display:none;\">\n",
              "\n",
              "  <svg xmlns=\"http://www.w3.org/2000/svg\" height=\"24px\" viewBox=\"0 -960 960 960\">\n",
              "    <path d=\"M120-120v-720h720v720H120Zm60-500h600v-160H180v160Zm220 220h160v-160H400v160Zm0 220h160v-160H400v160ZM180-400h160v-160H180v160Zm440 0h160v-160H620v160ZM180-180h160v-160H180v160Zm440 0h160v-160H620v160Z\"/>\n",
              "  </svg>\n",
              "    </button>\n",
              "\n",
              "  <style>\n",
              "    .colab-df-container {\n",
              "      display:flex;\n",
              "      gap: 12px;\n",
              "    }\n",
              "\n",
              "    .colab-df-convert {\n",
              "      background-color: #E8F0FE;\n",
              "      border: none;\n",
              "      border-radius: 50%;\n",
              "      cursor: pointer;\n",
              "      display: none;\n",
              "      fill: #1967D2;\n",
              "      height: 32px;\n",
              "      padding: 0 0 0 0;\n",
              "      width: 32px;\n",
              "    }\n",
              "\n",
              "    .colab-df-convert:hover {\n",
              "      background-color: #E2EBFA;\n",
              "      box-shadow: 0px 1px 2px rgba(60, 64, 67, 0.3), 0px 1px 3px 1px rgba(60, 64, 67, 0.15);\n",
              "      fill: #174EA6;\n",
              "    }\n",
              "\n",
              "    .colab-df-buttons div {\n",
              "      margin-bottom: 4px;\n",
              "    }\n",
              "\n",
              "    [theme=dark] .colab-df-convert {\n",
              "      background-color: #3B4455;\n",
              "      fill: #D2E3FC;\n",
              "    }\n",
              "\n",
              "    [theme=dark] .colab-df-convert:hover {\n",
              "      background-color: #434B5C;\n",
              "      box-shadow: 0px 1px 3px 1px rgba(0, 0, 0, 0.15);\n",
              "      filter: drop-shadow(0px 1px 2px rgba(0, 0, 0, 0.3));\n",
              "      fill: #FFFFFF;\n",
              "    }\n",
              "  </style>\n",
              "\n",
              "    <script>\n",
              "      const buttonEl =\n",
              "        document.querySelector('#df-ab260dc8-d2bc-497f-aa03-b4729eeca6e3 button.colab-df-convert');\n",
              "      buttonEl.style.display =\n",
              "        google.colab.kernel.accessAllowed ? 'block' : 'none';\n",
              "\n",
              "      async function convertToInteractive(key) {\n",
              "        const element = document.querySelector('#df-ab260dc8-d2bc-497f-aa03-b4729eeca6e3');\n",
              "        const dataTable =\n",
              "          await google.colab.kernel.invokeFunction('convertToInteractive',\n",
              "                                                    [key], {});\n",
              "        if (!dataTable) return;\n",
              "\n",
              "        const docLinkHtml = 'Like what you see? Visit the ' +\n",
              "          '<a target=\"_blank\" href=https://colab.research.google.com/notebooks/data_table.ipynb>data table notebook</a>'\n",
              "          + ' to learn more about interactive tables.';\n",
              "        element.innerHTML = '';\n",
              "        dataTable['output_type'] = 'display_data';\n",
              "        await google.colab.output.renderOutput(dataTable, element);\n",
              "        const docLink = document.createElement('div');\n",
              "        docLink.innerHTML = docLinkHtml;\n",
              "        element.appendChild(docLink);\n",
              "      }\n",
              "    </script>\n",
              "  </div>\n",
              "\n",
              "\n",
              "<div id=\"df-ecdaeebe-ff93-4b94-b151-a2144b22c5b7\">\n",
              "  <button class=\"colab-df-quickchart\" onclick=\"quickchart('df-ecdaeebe-ff93-4b94-b151-a2144b22c5b7')\"\n",
              "            title=\"Suggest charts.\"\n",
              "            style=\"display:none;\">\n",
              "\n",
              "<svg xmlns=\"http://www.w3.org/2000/svg\" height=\"24px\"viewBox=\"0 0 24 24\"\n",
              "     width=\"24px\">\n",
              "    <g>\n",
              "        <path d=\"M19 3H5c-1.1 0-2 .9-2 2v14c0 1.1.9 2 2 2h14c1.1 0 2-.9 2-2V5c0-1.1-.9-2-2-2zM9 17H7v-7h2v7zm4 0h-2V7h2v10zm4 0h-2v-4h2v4z\"/>\n",
              "    </g>\n",
              "</svg>\n",
              "  </button>\n",
              "\n",
              "<style>\n",
              "  .colab-df-quickchart {\n",
              "      --bg-color: #E8F0FE;\n",
              "      --fill-color: #1967D2;\n",
              "      --hover-bg-color: #E2EBFA;\n",
              "      --hover-fill-color: #174EA6;\n",
              "      --disabled-fill-color: #AAA;\n",
              "      --disabled-bg-color: #DDD;\n",
              "  }\n",
              "\n",
              "  [theme=dark] .colab-df-quickchart {\n",
              "      --bg-color: #3B4455;\n",
              "      --fill-color: #D2E3FC;\n",
              "      --hover-bg-color: #434B5C;\n",
              "      --hover-fill-color: #FFFFFF;\n",
              "      --disabled-bg-color: #3B4455;\n",
              "      --disabled-fill-color: #666;\n",
              "  }\n",
              "\n",
              "  .colab-df-quickchart {\n",
              "    background-color: var(--bg-color);\n",
              "    border: none;\n",
              "    border-radius: 50%;\n",
              "    cursor: pointer;\n",
              "    display: none;\n",
              "    fill: var(--fill-color);\n",
              "    height: 32px;\n",
              "    padding: 0;\n",
              "    width: 32px;\n",
              "  }\n",
              "\n",
              "  .colab-df-quickchart:hover {\n",
              "    background-color: var(--hover-bg-color);\n",
              "    box-shadow: 0 1px 2px rgba(60, 64, 67, 0.3), 0 1px 3px 1px rgba(60, 64, 67, 0.15);\n",
              "    fill: var(--button-hover-fill-color);\n",
              "  }\n",
              "\n",
              "  .colab-df-quickchart-complete:disabled,\n",
              "  .colab-df-quickchart-complete:disabled:hover {\n",
              "    background-color: var(--disabled-bg-color);\n",
              "    fill: var(--disabled-fill-color);\n",
              "    box-shadow: none;\n",
              "  }\n",
              "\n",
              "  .colab-df-spinner {\n",
              "    border: 2px solid var(--fill-color);\n",
              "    border-color: transparent;\n",
              "    border-bottom-color: var(--fill-color);\n",
              "    animation:\n",
              "      spin 1s steps(1) infinite;\n",
              "  }\n",
              "\n",
              "  @keyframes spin {\n",
              "    0% {\n",
              "      border-color: transparent;\n",
              "      border-bottom-color: var(--fill-color);\n",
              "      border-left-color: var(--fill-color);\n",
              "    }\n",
              "    20% {\n",
              "      border-color: transparent;\n",
              "      border-left-color: var(--fill-color);\n",
              "      border-top-color: var(--fill-color);\n",
              "    }\n",
              "    30% {\n",
              "      border-color: transparent;\n",
              "      border-left-color: var(--fill-color);\n",
              "      border-top-color: var(--fill-color);\n",
              "      border-right-color: var(--fill-color);\n",
              "    }\n",
              "    40% {\n",
              "      border-color: transparent;\n",
              "      border-right-color: var(--fill-color);\n",
              "      border-top-color: var(--fill-color);\n",
              "    }\n",
              "    60% {\n",
              "      border-color: transparent;\n",
              "      border-right-color: var(--fill-color);\n",
              "    }\n",
              "    80% {\n",
              "      border-color: transparent;\n",
              "      border-right-color: var(--fill-color);\n",
              "      border-bottom-color: var(--fill-color);\n",
              "    }\n",
              "    90% {\n",
              "      border-color: transparent;\n",
              "      border-bottom-color: var(--fill-color);\n",
              "    }\n",
              "  }\n",
              "</style>\n",
              "\n",
              "  <script>\n",
              "    async function quickchart(key) {\n",
              "      const quickchartButtonEl =\n",
              "        document.querySelector('#' + key + ' button');\n",
              "      quickchartButtonEl.disabled = true;  // To prevent multiple clicks.\n",
              "      quickchartButtonEl.classList.add('colab-df-spinner');\n",
              "      try {\n",
              "        const charts = await google.colab.kernel.invokeFunction(\n",
              "            'suggestCharts', [key], {});\n",
              "      } catch (error) {\n",
              "        console.error('Error during call to suggestCharts:', error);\n",
              "      }\n",
              "      quickchartButtonEl.classList.remove('colab-df-spinner');\n",
              "      quickchartButtonEl.classList.add('colab-df-quickchart-complete');\n",
              "    }\n",
              "    (() => {\n",
              "      let quickchartButtonEl =\n",
              "        document.querySelector('#df-ecdaeebe-ff93-4b94-b151-a2144b22c5b7 button');\n",
              "      quickchartButtonEl.style.display =\n",
              "        google.colab.kernel.accessAllowed ? 'block' : 'none';\n",
              "    })();\n",
              "  </script>\n",
              "</div>\n",
              "    </div>\n",
              "  </div>\n"
            ],
            "text/plain": [
              "                                    link               titulo  \\\n",
              "0  https://amazon.br/python_para_nubbies  Python para Nubbies   \n",
              "1         https://amazon.br/webscrapping  Python Webscrapping   \n",
              "2     https://amazon.br/html_para_leigos     HTML para leigos   \n",
              "3        https://amazon.br/java_e_python        JAVA e PYTHON   \n",
              "\n",
              "                                           descricao    codigo     preço  \n",
              "0    Python.Lorem Ipsum Dolor amec ist dolor sit dum  x1555842  R$150,99  \n",
              "1  Webscrapping Lorem Ipsum Dolor amec ist dolor ...  x1555555   R$85,99  \n",
              "2  HTML para leigos Lorem Ipsum Dolor amec ist do...  x1555377   R$55,99  \n",
              "3  JAVA e PYTHON Lorem Ipsum Dolor amec ist dolor...  x1555250  R$200,99  "
            ]
          },
          "execution_count": 31,
          "metadata": {},
          "output_type": "execute_result"
        }
      ],
      "source": [
        "df = pd.DataFrame(textos, columns=['link', 'titulo', 'descricao', 'codigo', 'preço'])\n",
        "df"
      ]
    },
    {
      "cell_type": "code",
      "execution_count": null,
      "metadata": {
        "id": "0SU0ou6j_z_W"
      },
      "outputs": [],
      "source": [
        "df['preco_dec'] = [float(p.replace('R$','').replace(',','.')) for p in df['preço']]"
      ]
    },
    {
      "cell_type": "code",
      "execution_count": null,
      "metadata": {
        "colab": {
          "base_uri": "https://localhost:8080/",
          "height": 143
        },
        "id": "0mY_E2IJAWIn",
        "outputId": "7b381618-9f65-4a6f-eacc-0e559673ff7a"
      },
      "outputs": [
        {
          "data": {
            "text/html": [
              "\n",
              "  <div id=\"df-a94e9c51-23e4-476f-b20d-d18c33a4866c\" class=\"colab-df-container\">\n",
              "    <div>\n",
              "<style scoped>\n",
              "    .dataframe tbody tr th:only-of-type {\n",
              "        vertical-align: middle;\n",
              "    }\n",
              "\n",
              "    .dataframe tbody tr th {\n",
              "        vertical-align: top;\n",
              "    }\n",
              "\n",
              "    .dataframe thead th {\n",
              "        text-align: right;\n",
              "    }\n",
              "</style>\n",
              "<table border=\"1\" class=\"dataframe\">\n",
              "  <thead>\n",
              "    <tr style=\"text-align: right;\">\n",
              "      <th></th>\n",
              "      <th>link</th>\n",
              "      <th>titulo</th>\n",
              "      <th>descricao</th>\n",
              "      <th>codigo</th>\n",
              "      <th>preço</th>\n",
              "      <th>preco_dec</th>\n",
              "    </tr>\n",
              "  </thead>\n",
              "  <tbody>\n",
              "    <tr>\n",
              "      <th>0</th>\n",
              "      <td>https://amazon.br/python_para_nubbies</td>\n",
              "      <td>Python para Nubbies</td>\n",
              "      <td>Python.Lorem Ipsum Dolor amec ist dolor sit dum</td>\n",
              "      <td>x1555842</td>\n",
              "      <td>R$150,99</td>\n",
              "      <td>150.99</td>\n",
              "    </tr>\n",
              "    <tr>\n",
              "      <th>1</th>\n",
              "      <td>https://amazon.br/webscrapping</td>\n",
              "      <td>Python Webscrapping</td>\n",
              "      <td>Webscrapping Lorem Ipsum Dolor amec ist dolor ...</td>\n",
              "      <td>x1555555</td>\n",
              "      <td>R$85,99</td>\n",
              "      <td>85.99</td>\n",
              "    </tr>\n",
              "    <tr>\n",
              "      <th>3</th>\n",
              "      <td>https://amazon.br/java_e_python</td>\n",
              "      <td>JAVA e PYTHON</td>\n",
              "      <td>JAVA e PYTHON Lorem Ipsum Dolor amec ist dolor...</td>\n",
              "      <td>x1555250</td>\n",
              "      <td>R$200,99</td>\n",
              "      <td>200.99</td>\n",
              "    </tr>\n",
              "  </tbody>\n",
              "</table>\n",
              "</div>\n",
              "    <div class=\"colab-df-buttons\">\n",
              "\n",
              "  <div class=\"colab-df-container\">\n",
              "    <button class=\"colab-df-convert\" onclick=\"convertToInteractive('df-a94e9c51-23e4-476f-b20d-d18c33a4866c')\"\n",
              "            title=\"Convert this dataframe to an interactive table.\"\n",
              "            style=\"display:none;\">\n",
              "\n",
              "  <svg xmlns=\"http://www.w3.org/2000/svg\" height=\"24px\" viewBox=\"0 -960 960 960\">\n",
              "    <path d=\"M120-120v-720h720v720H120Zm60-500h600v-160H180v160Zm220 220h160v-160H400v160Zm0 220h160v-160H400v160ZM180-400h160v-160H180v160Zm440 0h160v-160H620v160ZM180-180h160v-160H180v160Zm440 0h160v-160H620v160Z\"/>\n",
              "  </svg>\n",
              "    </button>\n",
              "\n",
              "  <style>\n",
              "    .colab-df-container {\n",
              "      display:flex;\n",
              "      gap: 12px;\n",
              "    }\n",
              "\n",
              "    .colab-df-convert {\n",
              "      background-color: #E8F0FE;\n",
              "      border: none;\n",
              "      border-radius: 50%;\n",
              "      cursor: pointer;\n",
              "      display: none;\n",
              "      fill: #1967D2;\n",
              "      height: 32px;\n",
              "      padding: 0 0 0 0;\n",
              "      width: 32px;\n",
              "    }\n",
              "\n",
              "    .colab-df-convert:hover {\n",
              "      background-color: #E2EBFA;\n",
              "      box-shadow: 0px 1px 2px rgba(60, 64, 67, 0.3), 0px 1px 3px 1px rgba(60, 64, 67, 0.15);\n",
              "      fill: #174EA6;\n",
              "    }\n",
              "\n",
              "    .colab-df-buttons div {\n",
              "      margin-bottom: 4px;\n",
              "    }\n",
              "\n",
              "    [theme=dark] .colab-df-convert {\n",
              "      background-color: #3B4455;\n",
              "      fill: #D2E3FC;\n",
              "    }\n",
              "\n",
              "    [theme=dark] .colab-df-convert:hover {\n",
              "      background-color: #434B5C;\n",
              "      box-shadow: 0px 1px 3px 1px rgba(0, 0, 0, 0.15);\n",
              "      filter: drop-shadow(0px 1px 2px rgba(0, 0, 0, 0.3));\n",
              "      fill: #FFFFFF;\n",
              "    }\n",
              "  </style>\n",
              "\n",
              "    <script>\n",
              "      const buttonEl =\n",
              "        document.querySelector('#df-a94e9c51-23e4-476f-b20d-d18c33a4866c button.colab-df-convert');\n",
              "      buttonEl.style.display =\n",
              "        google.colab.kernel.accessAllowed ? 'block' : 'none';\n",
              "\n",
              "      async function convertToInteractive(key) {\n",
              "        const element = document.querySelector('#df-a94e9c51-23e4-476f-b20d-d18c33a4866c');\n",
              "        const dataTable =\n",
              "          await google.colab.kernel.invokeFunction('convertToInteractive',\n",
              "                                                    [key], {});\n",
              "        if (!dataTable) return;\n",
              "\n",
              "        const docLinkHtml = 'Like what you see? Visit the ' +\n",
              "          '<a target=\"_blank\" href=https://colab.research.google.com/notebooks/data_table.ipynb>data table notebook</a>'\n",
              "          + ' to learn more about interactive tables.';\n",
              "        element.innerHTML = '';\n",
              "        dataTable['output_type'] = 'display_data';\n",
              "        await google.colab.output.renderOutput(dataTable, element);\n",
              "        const docLink = document.createElement('div');\n",
              "        docLink.innerHTML = docLinkHtml;\n",
              "        element.appendChild(docLink);\n",
              "      }\n",
              "    </script>\n",
              "  </div>\n",
              "\n",
              "\n",
              "<div id=\"df-726c8376-c5a1-47cf-8a65-6ae573bb926e\">\n",
              "  <button class=\"colab-df-quickchart\" onclick=\"quickchart('df-726c8376-c5a1-47cf-8a65-6ae573bb926e')\"\n",
              "            title=\"Suggest charts.\"\n",
              "            style=\"display:none;\">\n",
              "\n",
              "<svg xmlns=\"http://www.w3.org/2000/svg\" height=\"24px\"viewBox=\"0 0 24 24\"\n",
              "     width=\"24px\">\n",
              "    <g>\n",
              "        <path d=\"M19 3H5c-1.1 0-2 .9-2 2v14c0 1.1.9 2 2 2h14c1.1 0 2-.9 2-2V5c0-1.1-.9-2-2-2zM9 17H7v-7h2v7zm4 0h-2V7h2v10zm4 0h-2v-4h2v4z\"/>\n",
              "    </g>\n",
              "</svg>\n",
              "  </button>\n",
              "\n",
              "<style>\n",
              "  .colab-df-quickchart {\n",
              "      --bg-color: #E8F0FE;\n",
              "      --fill-color: #1967D2;\n",
              "      --hover-bg-color: #E2EBFA;\n",
              "      --hover-fill-color: #174EA6;\n",
              "      --disabled-fill-color: #AAA;\n",
              "      --disabled-bg-color: #DDD;\n",
              "  }\n",
              "\n",
              "  [theme=dark] .colab-df-quickchart {\n",
              "      --bg-color: #3B4455;\n",
              "      --fill-color: #D2E3FC;\n",
              "      --hover-bg-color: #434B5C;\n",
              "      --hover-fill-color: #FFFFFF;\n",
              "      --disabled-bg-color: #3B4455;\n",
              "      --disabled-fill-color: #666;\n",
              "  }\n",
              "\n",
              "  .colab-df-quickchart {\n",
              "    background-color: var(--bg-color);\n",
              "    border: none;\n",
              "    border-radius: 50%;\n",
              "    cursor: pointer;\n",
              "    display: none;\n",
              "    fill: var(--fill-color);\n",
              "    height: 32px;\n",
              "    padding: 0;\n",
              "    width: 32px;\n",
              "  }\n",
              "\n",
              "  .colab-df-quickchart:hover {\n",
              "    background-color: var(--hover-bg-color);\n",
              "    box-shadow: 0 1px 2px rgba(60, 64, 67, 0.3), 0 1px 3px 1px rgba(60, 64, 67, 0.15);\n",
              "    fill: var(--button-hover-fill-color);\n",
              "  }\n",
              "\n",
              "  .colab-df-quickchart-complete:disabled,\n",
              "  .colab-df-quickchart-complete:disabled:hover {\n",
              "    background-color: var(--disabled-bg-color);\n",
              "    fill: var(--disabled-fill-color);\n",
              "    box-shadow: none;\n",
              "  }\n",
              "\n",
              "  .colab-df-spinner {\n",
              "    border: 2px solid var(--fill-color);\n",
              "    border-color: transparent;\n",
              "    border-bottom-color: var(--fill-color);\n",
              "    animation:\n",
              "      spin 1s steps(1) infinite;\n",
              "  }\n",
              "\n",
              "  @keyframes spin {\n",
              "    0% {\n",
              "      border-color: transparent;\n",
              "      border-bottom-color: var(--fill-color);\n",
              "      border-left-color: var(--fill-color);\n",
              "    }\n",
              "    20% {\n",
              "      border-color: transparent;\n",
              "      border-left-color: var(--fill-color);\n",
              "      border-top-color: var(--fill-color);\n",
              "    }\n",
              "    30% {\n",
              "      border-color: transparent;\n",
              "      border-left-color: var(--fill-color);\n",
              "      border-top-color: var(--fill-color);\n",
              "      border-right-color: var(--fill-color);\n",
              "    }\n",
              "    40% {\n",
              "      border-color: transparent;\n",
              "      border-right-color: var(--fill-color);\n",
              "      border-top-color: var(--fill-color);\n",
              "    }\n",
              "    60% {\n",
              "      border-color: transparent;\n",
              "      border-right-color: var(--fill-color);\n",
              "    }\n",
              "    80% {\n",
              "      border-color: transparent;\n",
              "      border-right-color: var(--fill-color);\n",
              "      border-bottom-color: var(--fill-color);\n",
              "    }\n",
              "    90% {\n",
              "      border-color: transparent;\n",
              "      border-bottom-color: var(--fill-color);\n",
              "    }\n",
              "  }\n",
              "</style>\n",
              "\n",
              "  <script>\n",
              "    async function quickchart(key) {\n",
              "      const quickchartButtonEl =\n",
              "        document.querySelector('#' + key + ' button');\n",
              "      quickchartButtonEl.disabled = true;  // To prevent multiple clicks.\n",
              "      quickchartButtonEl.classList.add('colab-df-spinner');\n",
              "      try {\n",
              "        const charts = await google.colab.kernel.invokeFunction(\n",
              "            'suggestCharts', [key], {});\n",
              "      } catch (error) {\n",
              "        console.error('Error during call to suggestCharts:', error);\n",
              "      }\n",
              "      quickchartButtonEl.classList.remove('colab-df-spinner');\n",
              "      quickchartButtonEl.classList.add('colab-df-quickchart-complete');\n",
              "    }\n",
              "    (() => {\n",
              "      let quickchartButtonEl =\n",
              "        document.querySelector('#df-726c8376-c5a1-47cf-8a65-6ae573bb926e button');\n",
              "      quickchartButtonEl.style.display =\n",
              "        google.colab.kernel.accessAllowed ? 'block' : 'none';\n",
              "    })();\n",
              "  </script>\n",
              "</div>\n",
              "    </div>\n",
              "  </div>\n"
            ],
            "text/plain": [
              "                                    link               titulo  \\\n",
              "0  https://amazon.br/python_para_nubbies  Python para Nubbies   \n",
              "1         https://amazon.br/webscrapping  Python Webscrapping   \n",
              "3        https://amazon.br/java_e_python        JAVA e PYTHON   \n",
              "\n",
              "                                           descricao    codigo     preço  \\\n",
              "0    Python.Lorem Ipsum Dolor amec ist dolor sit dum  x1555842  R$150,99   \n",
              "1  Webscrapping Lorem Ipsum Dolor amec ist dolor ...  x1555555   R$85,99   \n",
              "3  JAVA e PYTHON Lorem Ipsum Dolor amec ist dolor...  x1555250  R$200,99   \n",
              "\n",
              "   preco_dec  \n",
              "0     150.99  \n",
              "1      85.99  \n",
              "3     200.99  "
            ]
          },
          "execution_count": 33,
          "metadata": {},
          "output_type": "execute_result"
        }
      ],
      "source": [
        "df[df['preco_dec'] > 80]"
      ]
    },
    {
      "cell_type": "code",
      "execution_count": null,
      "metadata": {
        "colab": {
          "base_uri": "https://localhost:8080/",
          "height": 112
        },
        "id": "is9zlpjbAaLo",
        "outputId": "c8e3a10e-b6a3-4afe-d7f0-f5b17c45fe48"
      },
      "outputs": [
        {
          "data": {
            "text/html": [
              "\n",
              "  <div id=\"df-03b9f1eb-623d-433b-897f-d59864dda400\" class=\"colab-df-container\">\n",
              "    <div>\n",
              "<style scoped>\n",
              "    .dataframe tbody tr th:only-of-type {\n",
              "        vertical-align: middle;\n",
              "    }\n",
              "\n",
              "    .dataframe tbody tr th {\n",
              "        vertical-align: top;\n",
              "    }\n",
              "\n",
              "    .dataframe thead th {\n",
              "        text-align: right;\n",
              "    }\n",
              "</style>\n",
              "<table border=\"1\" class=\"dataframe\">\n",
              "  <thead>\n",
              "    <tr style=\"text-align: right;\">\n",
              "      <th></th>\n",
              "      <th>link</th>\n",
              "      <th>titulo</th>\n",
              "      <th>descricao</th>\n",
              "      <th>codigo</th>\n",
              "      <th>preço</th>\n",
              "      <th>preco_dec</th>\n",
              "    </tr>\n",
              "  </thead>\n",
              "  <tbody>\n",
              "    <tr>\n",
              "      <th>0</th>\n",
              "      <td>https://amazon.br/python_para_nubbies</td>\n",
              "      <td>Python para Nubbies</td>\n",
              "      <td>Python.Lorem Ipsum Dolor amec ist dolor sit dum</td>\n",
              "      <td>x1555842</td>\n",
              "      <td>R$150,99</td>\n",
              "      <td>150.99</td>\n",
              "    </tr>\n",
              "    <tr>\n",
              "      <th>1</th>\n",
              "      <td>https://amazon.br/webscrapping</td>\n",
              "      <td>Python Webscrapping</td>\n",
              "      <td>Webscrapping Lorem Ipsum Dolor amec ist dolor ...</td>\n",
              "      <td>x1555555</td>\n",
              "      <td>R$85,99</td>\n",
              "      <td>85.99</td>\n",
              "    </tr>\n",
              "  </tbody>\n",
              "</table>\n",
              "</div>\n",
              "    <div class=\"colab-df-buttons\">\n",
              "\n",
              "  <div class=\"colab-df-container\">\n",
              "    <button class=\"colab-df-convert\" onclick=\"convertToInteractive('df-03b9f1eb-623d-433b-897f-d59864dda400')\"\n",
              "            title=\"Convert this dataframe to an interactive table.\"\n",
              "            style=\"display:none;\">\n",
              "\n",
              "  <svg xmlns=\"http://www.w3.org/2000/svg\" height=\"24px\" viewBox=\"0 -960 960 960\">\n",
              "    <path d=\"M120-120v-720h720v720H120Zm60-500h600v-160H180v160Zm220 220h160v-160H400v160Zm0 220h160v-160H400v160ZM180-400h160v-160H180v160Zm440 0h160v-160H620v160ZM180-180h160v-160H180v160Zm440 0h160v-160H620v160Z\"/>\n",
              "  </svg>\n",
              "    </button>\n",
              "\n",
              "  <style>\n",
              "    .colab-df-container {\n",
              "      display:flex;\n",
              "      gap: 12px;\n",
              "    }\n",
              "\n",
              "    .colab-df-convert {\n",
              "      background-color: #E8F0FE;\n",
              "      border: none;\n",
              "      border-radius: 50%;\n",
              "      cursor: pointer;\n",
              "      display: none;\n",
              "      fill: #1967D2;\n",
              "      height: 32px;\n",
              "      padding: 0 0 0 0;\n",
              "      width: 32px;\n",
              "    }\n",
              "\n",
              "    .colab-df-convert:hover {\n",
              "      background-color: #E2EBFA;\n",
              "      box-shadow: 0px 1px 2px rgba(60, 64, 67, 0.3), 0px 1px 3px 1px rgba(60, 64, 67, 0.15);\n",
              "      fill: #174EA6;\n",
              "    }\n",
              "\n",
              "    .colab-df-buttons div {\n",
              "      margin-bottom: 4px;\n",
              "    }\n",
              "\n",
              "    [theme=dark] .colab-df-convert {\n",
              "      background-color: #3B4455;\n",
              "      fill: #D2E3FC;\n",
              "    }\n",
              "\n",
              "    [theme=dark] .colab-df-convert:hover {\n",
              "      background-color: #434B5C;\n",
              "      box-shadow: 0px 1px 3px 1px rgba(0, 0, 0, 0.15);\n",
              "      filter: drop-shadow(0px 1px 2px rgba(0, 0, 0, 0.3));\n",
              "      fill: #FFFFFF;\n",
              "    }\n",
              "  </style>\n",
              "\n",
              "    <script>\n",
              "      const buttonEl =\n",
              "        document.querySelector('#df-03b9f1eb-623d-433b-897f-d59864dda400 button.colab-df-convert');\n",
              "      buttonEl.style.display =\n",
              "        google.colab.kernel.accessAllowed ? 'block' : 'none';\n",
              "\n",
              "      async function convertToInteractive(key) {\n",
              "        const element = document.querySelector('#df-03b9f1eb-623d-433b-897f-d59864dda400');\n",
              "        const dataTable =\n",
              "          await google.colab.kernel.invokeFunction('convertToInteractive',\n",
              "                                                    [key], {});\n",
              "        if (!dataTable) return;\n",
              "\n",
              "        const docLinkHtml = 'Like what you see? Visit the ' +\n",
              "          '<a target=\"_blank\" href=https://colab.research.google.com/notebooks/data_table.ipynb>data table notebook</a>'\n",
              "          + ' to learn more about interactive tables.';\n",
              "        element.innerHTML = '';\n",
              "        dataTable['output_type'] = 'display_data';\n",
              "        await google.colab.output.renderOutput(dataTable, element);\n",
              "        const docLink = document.createElement('div');\n",
              "        docLink.innerHTML = docLinkHtml;\n",
              "        element.appendChild(docLink);\n",
              "      }\n",
              "    </script>\n",
              "  </div>\n",
              "\n",
              "\n",
              "<div id=\"df-fd01650d-edbb-4343-b25f-15551979f758\">\n",
              "  <button class=\"colab-df-quickchart\" onclick=\"quickchart('df-fd01650d-edbb-4343-b25f-15551979f758')\"\n",
              "            title=\"Suggest charts.\"\n",
              "            style=\"display:none;\">\n",
              "\n",
              "<svg xmlns=\"http://www.w3.org/2000/svg\" height=\"24px\"viewBox=\"0 0 24 24\"\n",
              "     width=\"24px\">\n",
              "    <g>\n",
              "        <path d=\"M19 3H5c-1.1 0-2 .9-2 2v14c0 1.1.9 2 2 2h14c1.1 0 2-.9 2-2V5c0-1.1-.9-2-2-2zM9 17H7v-7h2v7zm4 0h-2V7h2v10zm4 0h-2v-4h2v4z\"/>\n",
              "    </g>\n",
              "</svg>\n",
              "  </button>\n",
              "\n",
              "<style>\n",
              "  .colab-df-quickchart {\n",
              "      --bg-color: #E8F0FE;\n",
              "      --fill-color: #1967D2;\n",
              "      --hover-bg-color: #E2EBFA;\n",
              "      --hover-fill-color: #174EA6;\n",
              "      --disabled-fill-color: #AAA;\n",
              "      --disabled-bg-color: #DDD;\n",
              "  }\n",
              "\n",
              "  [theme=dark] .colab-df-quickchart {\n",
              "      --bg-color: #3B4455;\n",
              "      --fill-color: #D2E3FC;\n",
              "      --hover-bg-color: #434B5C;\n",
              "      --hover-fill-color: #FFFFFF;\n",
              "      --disabled-bg-color: #3B4455;\n",
              "      --disabled-fill-color: #666;\n",
              "  }\n",
              "\n",
              "  .colab-df-quickchart {\n",
              "    background-color: var(--bg-color);\n",
              "    border: none;\n",
              "    border-radius: 50%;\n",
              "    cursor: pointer;\n",
              "    display: none;\n",
              "    fill: var(--fill-color);\n",
              "    height: 32px;\n",
              "    padding: 0;\n",
              "    width: 32px;\n",
              "  }\n",
              "\n",
              "  .colab-df-quickchart:hover {\n",
              "    background-color: var(--hover-bg-color);\n",
              "    box-shadow: 0 1px 2px rgba(60, 64, 67, 0.3), 0 1px 3px 1px rgba(60, 64, 67, 0.15);\n",
              "    fill: var(--button-hover-fill-color);\n",
              "  }\n",
              "\n",
              "  .colab-df-quickchart-complete:disabled,\n",
              "  .colab-df-quickchart-complete:disabled:hover {\n",
              "    background-color: var(--disabled-bg-color);\n",
              "    fill: var(--disabled-fill-color);\n",
              "    box-shadow: none;\n",
              "  }\n",
              "\n",
              "  .colab-df-spinner {\n",
              "    border: 2px solid var(--fill-color);\n",
              "    border-color: transparent;\n",
              "    border-bottom-color: var(--fill-color);\n",
              "    animation:\n",
              "      spin 1s steps(1) infinite;\n",
              "  }\n",
              "\n",
              "  @keyframes spin {\n",
              "    0% {\n",
              "      border-color: transparent;\n",
              "      border-bottom-color: var(--fill-color);\n",
              "      border-left-color: var(--fill-color);\n",
              "    }\n",
              "    20% {\n",
              "      border-color: transparent;\n",
              "      border-left-color: var(--fill-color);\n",
              "      border-top-color: var(--fill-color);\n",
              "    }\n",
              "    30% {\n",
              "      border-color: transparent;\n",
              "      border-left-color: var(--fill-color);\n",
              "      border-top-color: var(--fill-color);\n",
              "      border-right-color: var(--fill-color);\n",
              "    }\n",
              "    40% {\n",
              "      border-color: transparent;\n",
              "      border-right-color: var(--fill-color);\n",
              "      border-top-color: var(--fill-color);\n",
              "    }\n",
              "    60% {\n",
              "      border-color: transparent;\n",
              "      border-right-color: var(--fill-color);\n",
              "    }\n",
              "    80% {\n",
              "      border-color: transparent;\n",
              "      border-right-color: var(--fill-color);\n",
              "      border-bottom-color: var(--fill-color);\n",
              "    }\n",
              "    90% {\n",
              "      border-color: transparent;\n",
              "      border-bottom-color: var(--fill-color);\n",
              "    }\n",
              "  }\n",
              "</style>\n",
              "\n",
              "  <script>\n",
              "    async function quickchart(key) {\n",
              "      const quickchartButtonEl =\n",
              "        document.querySelector('#' + key + ' button');\n",
              "      quickchartButtonEl.disabled = true;  // To prevent multiple clicks.\n",
              "      quickchartButtonEl.classList.add('colab-df-spinner');\n",
              "      try {\n",
              "        const charts = await google.colab.kernel.invokeFunction(\n",
              "            'suggestCharts', [key], {});\n",
              "      } catch (error) {\n",
              "        console.error('Error during call to suggestCharts:', error);\n",
              "      }\n",
              "      quickchartButtonEl.classList.remove('colab-df-spinner');\n",
              "      quickchartButtonEl.classList.add('colab-df-quickchart-complete');\n",
              "    }\n",
              "    (() => {\n",
              "      let quickchartButtonEl =\n",
              "        document.querySelector('#df-fd01650d-edbb-4343-b25f-15551979f758 button');\n",
              "      quickchartButtonEl.style.display =\n",
              "        google.colab.kernel.accessAllowed ? 'block' : 'none';\n",
              "    })();\n",
              "  </script>\n",
              "</div>\n",
              "    </div>\n",
              "  </div>\n"
            ],
            "text/plain": [
              "                                    link               titulo  \\\n",
              "0  https://amazon.br/python_para_nubbies  Python para Nubbies   \n",
              "1         https://amazon.br/webscrapping  Python Webscrapping   \n",
              "\n",
              "                                           descricao    codigo     preço  \\\n",
              "0    Python.Lorem Ipsum Dolor amec ist dolor sit dum  x1555842  R$150,99   \n",
              "1  Webscrapping Lorem Ipsum Dolor amec ist dolor ...  x1555555   R$85,99   \n",
              "\n",
              "   preco_dec  \n",
              "0     150.99  \n",
              "1      85.99  "
            ]
          },
          "execution_count": 34,
          "metadata": {},
          "output_type": "execute_result"
        }
      ],
      "source": [
        "df.loc[df['titulo'].str.contains('Python')]"
      ]
    },
    {
      "cell_type": "code",
      "execution_count": null,
      "metadata": {
        "id": "tZcA9gu-ooiP"
      },
      "outputs": [],
      "source": [
        "### THATS ALL FOLKS!!!"
      ]
    },
    {
      "cell_type": "code",
      "execution_count": null,
      "metadata": {
        "id": "x1Ep_1Nk_zUA"
      },
      "outputs": [],
      "source": []
    }
  ],
  "metadata": {
    "colab": {
      "provenance": []
    },
    "kernelspec": {
      "display_name": "DATA_HARV (3.10.2)",
      "language": "python",
      "name": "python3"
    },
    "language_info": {
      "codemirror_mode": {
        "name": "ipython",
        "version": 3
      },
      "file_extension": ".py",
      "mimetype": "text/x-python",
      "name": "python",
      "nbconvert_exporter": "python",
      "pygments_lexer": "ipython3",
      "version": "3.10.2"
    }
  },
  "nbformat": 4,
  "nbformat_minor": 0
}
