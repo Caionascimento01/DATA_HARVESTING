{
  "cells": [
    {
      "cell_type": "markdown",
      "metadata": {
        "id": "_jVhN0QJOrC7"
      },
      "source": [
        "# DATA HARVESTING"
      ]
    },
    {
      "cell_type": "code",
      "execution_count": 27,
      "metadata": {
        "id": "oa1MRtM4Nj9F"
      },
      "outputs": [],
      "source": [
        "from urllib.request import urlopen\n",
        "from pathlib import Path\n",
        "from bs4 import BeautifulSoup\n",
        "import re"
      ]
    },
    {
      "cell_type": "code",
      "execution_count": null,
      "metadata": {
        "colab": {
          "base_uri": "https://localhost:8080/"
        },
        "id": "ByeLEAjAQjgh",
        "outputId": "49254fc7-1c77-4876-e51f-73cf3478d6a8"
      },
      "outputs": [
        {
          "data": {
            "text/plain": [
              "[\"'ls' n�o � reconhecido como um comando interno\",\n",
              " 'ou externo, um programa oper�vel ou um arquivo em lotes.']"
            ]
          },
          "execution_count": 2,
          "metadata": {},
          "output_type": "execute_result"
        }
      ],
      "source": [
        "# pastas = !ls\n",
        "# pastas"
      ]
    },
    {
      "cell_type": "code",
      "execution_count": 102,
      "metadata": {
        "id": "DRYUg7hOPZ9S"
      },
      "outputs": [],
      "source": [
        "# boa prática para constantes LETRAMAIUSCULA\n",
        "# HTML = urlopen(\"file:////content/drive/MyDrive/MBA/UNIFOR/DATA SCIENCE/2023/DATA HARVESTING/html/html.html\")\n",
        "# HTML = urlopen(\"https://quotes.toscrape.com/\")\n",
        "\n",
        "# HTML está na pasta do projeto\n",
        "html_path = Path(\"html/html2.html\").resolve()\n",
        "HTML = urlopen(f\"file:///{html_path}\")"
      ]
    },
    {
      "cell_type": "markdown",
      "metadata": {
        "id": "DbIhMyG4UB7s"
      },
      "source": [
        "## Pontos iniciais"
      ]
    },
    {
      "cell_type": "code",
      "execution_count": 103,
      "metadata": {
        "id": "CxV0Y8LVPaeh"
      },
      "outputs": [],
      "source": [
        "# read() - recebe o objeto do urlopen com o conteudo da pagina, arquivo.\n",
        "# html.parser e lxml - é uma espécie de extrator de dados, ele faz a leitura e coleta do arquivo html posicionados no .read()\n",
        "# BeautifulSoup - recebe os parametros anteriores e instancia o objeto bs com o response, retorno, resposta, saida, etc...\n",
        "\n",
        "bs = BeautifulSoup(HTML.read(), 'lxml')\n"
      ]
    },
    {
      "cell_type": "markdown",
      "metadata": {
        "id": "whSTOYI_QIfm"
      },
      "source": [
        "## Falando de Parsers\n",
        "html.parser - sem dependencias e velocidade media, leniencia media\n",
        "\n",
        "html5lib - mais leniente a problemas no html, baixa velocidade e possui dependencia\n",
        "\n",
        "lxml - o mais rapido, pouco leniente a falhas no html"
      ]
    },
    {
      "cell_type": "markdown",
      "metadata": {
        "id": "RfCSV8mh9nQD"
      },
      "source": [
        "### Visualizando o HTML"
      ]
    },
    {
      "cell_type": "code",
      "execution_count": 104,
      "metadata": {
        "id": "Wg5FLEE2ReNR"
      },
      "outputs": [],
      "source": [
        "#bs"
      ]
    },
    {
      "cell_type": "markdown",
      "metadata": {
        "id": "egx6buBpSQgL"
      },
      "source": [
        "#### Raspagem do HTML"
      ]
    },
    {
      "cell_type": "markdown",
      "metadata": {
        "id": "yYyz4Jw4Rzz9"
      },
      "source": [
        "Exercicio 1\n",
        "Vamos lá! Capturar o texto da tag P que está na DIV de classe CABECALHO.\n",
        "Depois imprima na tela o resultado."
      ]
    },
    {
      "cell_type": "code",
      "execution_count": 105,
      "metadata": {
        "id": "MD7ZU3lDi4cQ"
      },
      "outputs": [],
      "source": [
        "main = bs.find('div')"
      ]
    },
    {
      "cell_type": "code",
      "execution_count": 106,
      "metadata": {
        "colab": {
          "base_uri": "https://localhost:8080/"
        },
        "id": "uWfRiu5sjTnB",
        "outputId": "ddba8b02-20bc-4c7a-e285-b15475598010"
      },
      "outputs": [
        {
          "name": "stdout",
          "output_type": "stream",
          "text": [
            "<div class=\"cabecalho\">\n",
            "<h1>OLÁ PESSOAL COMO VAI, AQUI É HTML</h1>\n",
            "<p>Oi pessoal eu sou um parágrafo. E estou dentro de uma tag chamada DIV. Ela serve para formatar as partes de um site.</p>\n",
            "</div>\n",
            "<div class=\"conteudo\">\n",
            "<h2>Oi, eu faço um título ficar mais com cara de título!</h2>\n",
            "<div class=\"produto\">\n",
            "<ul>\n",
            "<li class=\"link\"><a href=\"https://unifor.br\" target=\"_blank\">Link1</a></li>\n",
            "<li class=\"titulo\">Título do produto</li>\n",
            "<li class=\"subtitulo\">Lorem Ipsum Dolor amec ist dolor sit dum.</li>\n",
            "<li class=\"id_produto\">ID: x1555243</li>\n",
            "<li class=\"preco\">R$ 5,99</li>\n",
            "</ul>\n",
            "</div>\n",
            "<div class=\"produto\">\n",
            "<ul>\n",
            "<li class=\"link\"><a href=\"https://unifor.br\" target=\"_blank\">Link2</a></li>\n",
            "<li class=\"titulo\">Título do produto 2</li>\n",
            "<li class=\"subtitulo\">Lorem Ipsum Dolor amec ist dolor sit dum.</li>\n",
            "<li class=\"id_produto\">ID: x1555244</li>\n",
            "<li class=\"preco\">R$ 15,99</li>\n",
            "</ul>\n",
            "</div>\n",
            "<div class=\"produto\">\n",
            "<ul>\n",
            "<li class=\"link\"><a href=\"https://unifor.br\" target=\"_blank\">Link3</a></li>\n",
            "<li class=\"titulo\">Título do produto 3</li>\n",
            "<li class=\"subtitulo\">Lorem Ipsum Dolor amec ist dolor sit dum.</li>\n",
            "<li class=\"id_produto\">ID: x1555245</li>\n",
            "<li class=\"preco\">R$ 25,99</li>\n",
            "</ul>\n",
            "</div>\n",
            "<div class=\"produto\">\n",
            "<ul>\n",
            "<li class=\"link\"><a href=\"https://unifor.br\" target=\"_blank\">Link4</a></li>\n",
            "<li class=\"titulo\">Título do produto 4</li>\n",
            "<li class=\"subtitulo\">Lorem Ipsum Dolor amec ist dolor sit dum.</li>\n",
            "<li class=\"id_produto\">ID: x1555246</li>\n",
            "<li class=\"preco\">R$ 35,99</li>\n",
            "</ul>\n",
            "</div>\n",
            "<p class=\"descricao\">Vocês viram o UL e o LI, eles respondem na hora que precisamos escrever listas. Serve muito para menus.</p>\n",
            "</div>\n",
            "<div class=\"produto\">\n",
            "<ul>\n",
            "<li class=\"link\"><a href=\"https://unifor.br\" target=\"_blank\">Link1</a></li>\n",
            "<li class=\"titulo\">Título do produto</li>\n",
            "<li class=\"subtitulo\">Lorem Ipsum Dolor amec ist dolor sit dum.</li>\n",
            "<li class=\"id_produto\">ID: x1555243</li>\n",
            "<li class=\"preco\">R$ 5,99</li>\n",
            "</ul>\n",
            "</div>\n",
            "<div class=\"produto\">\n",
            "<ul>\n",
            "<li class=\"link\"><a href=\"https://unifor.br\" target=\"_blank\">Link2</a></li>\n",
            "<li class=\"titulo\">Título do produto 2</li>\n",
            "<li class=\"subtitulo\">Lorem Ipsum Dolor amec ist dolor sit dum.</li>\n",
            "<li class=\"id_produto\">ID: x1555244</li>\n",
            "<li class=\"preco\">R$ 15,99</li>\n",
            "</ul>\n",
            "</div>\n",
            "<div class=\"produto\">\n",
            "<ul>\n",
            "<li class=\"link\"><a href=\"https://unifor.br\" target=\"_blank\">Link3</a></li>\n",
            "<li class=\"titulo\">Título do produto 3</li>\n",
            "<li class=\"subtitulo\">Lorem Ipsum Dolor amec ist dolor sit dum.</li>\n",
            "<li class=\"id_produto\">ID: x1555245</li>\n",
            "<li class=\"preco\">R$ 25,99</li>\n",
            "</ul>\n",
            "</div>\n",
            "<div class=\"produto\">\n",
            "<ul>\n",
            "<li class=\"link\"><a href=\"https://unifor.br\" target=\"_blank\">Link4</a></li>\n",
            "<li class=\"titulo\">Título do produto 4</li>\n",
            "<li class=\"subtitulo\">Lorem Ipsum Dolor amec ist dolor sit dum.</li>\n",
            "<li class=\"id_produto\">ID: x1555246</li>\n",
            "<li class=\"preco\">R$ 35,99</li>\n",
            "</ul>\n",
            "</div>\n",
            "<div class=\"rodape\">\n",
            "<h3>Estamos no rodapé da página. Aqui seria o final do site que está no HTML.</h3>\n",
            "</div>\n"
          ]
        }
      ],
      "source": [
        "for x in range(len(main.find_all('div'))):\n",
        "  print(main.find_all('div')[x])"
      ]
    },
    {
      "cell_type": "code",
      "execution_count": 107,
      "metadata": {
        "colab": {
          "base_uri": "https://localhost:8080/"
        },
        "id": "ggiAtCGisU-V",
        "outputId": "e7c45c79-eaf0-48e7-e697-628f10282c1a"
      },
      "outputs": [
        {
          "data": {
            "text/plain": [
              "<div class=\"conteudo\">\n",
              "<h2>Oi, eu faço um título ficar mais com cara de título!</h2>\n",
              "<div class=\"produto\">\n",
              "<ul>\n",
              "<li class=\"link\"><a href=\"https://unifor.br\" target=\"_blank\">Link1</a></li>\n",
              "<li class=\"titulo\">Título do produto</li>\n",
              "<li class=\"subtitulo\">Lorem Ipsum Dolor amec ist dolor sit dum.</li>\n",
              "<li class=\"id_produto\">ID: x1555243</li>\n",
              "<li class=\"preco\">R$ 5,99</li>\n",
              "</ul>\n",
              "</div>\n",
              "<div class=\"produto\">\n",
              "<ul>\n",
              "<li class=\"link\"><a href=\"https://unifor.br\" target=\"_blank\">Link2</a></li>\n",
              "<li class=\"titulo\">Título do produto 2</li>\n",
              "<li class=\"subtitulo\">Lorem Ipsum Dolor amec ist dolor sit dum.</li>\n",
              "<li class=\"id_produto\">ID: x1555244</li>\n",
              "<li class=\"preco\">R$ 15,99</li>\n",
              "</ul>\n",
              "</div>\n",
              "<div class=\"produto\">\n",
              "<ul>\n",
              "<li class=\"link\"><a href=\"https://unifor.br\" target=\"_blank\">Link3</a></li>\n",
              "<li class=\"titulo\">Título do produto 3</li>\n",
              "<li class=\"subtitulo\">Lorem Ipsum Dolor amec ist dolor sit dum.</li>\n",
              "<li class=\"id_produto\">ID: x1555245</li>\n",
              "<li class=\"preco\">R$ 25,99</li>\n",
              "</ul>\n",
              "</div>\n",
              "<div class=\"produto\">\n",
              "<ul>\n",
              "<li class=\"link\"><a href=\"https://unifor.br\" target=\"_blank\">Link4</a></li>\n",
              "<li class=\"titulo\">Título do produto 4</li>\n",
              "<li class=\"subtitulo\">Lorem Ipsum Dolor amec ist dolor sit dum.</li>\n",
              "<li class=\"id_produto\">ID: x1555246</li>\n",
              "<li class=\"preco\">R$ 35,99</li>\n",
              "</ul>\n",
              "</div>\n",
              "<p class=\"descricao\">Vocês viram o UL e o LI, eles respondem na hora que precisamos escrever listas. Serve muito para menus.</p>\n",
              "</div>"
            ]
          },
          "execution_count": 107,
          "metadata": {},
          "output_type": "execute_result"
        }
      ],
      "source": [
        "main.find('div', {'class':'conteudo'})"
      ]
    },
    {
      "cell_type": "code",
      "execution_count": 108,
      "metadata": {
        "id": "WTWjoiD2Ukj_"
      },
      "outputs": [],
      "source": [
        "texto = bs.find('div', {'class':'cabecalho'}).p.text #get_text()"
      ]
    },
    {
      "cell_type": "code",
      "execution_count": 109,
      "metadata": {
        "colab": {
          "base_uri": "https://localhost:8080/"
        },
        "id": "ZoSZIkQKRV1n",
        "outputId": "404308b3-514d-425d-ef79-7f633b01a374"
      },
      "outputs": [
        {
          "name": "stdout",
          "output_type": "stream",
          "text": [
            "Oi pessoal eu sou um parágrafo. E estou dentro de uma tag chamada DIV. Ela serve para formatar as partes de um site.\n"
          ]
        }
      ],
      "source": [
        "print(texto)"
      ]
    },
    {
      "cell_type": "markdown",
      "metadata": {
        "id": "MlSh1cTKQQVf"
      },
      "source": [
        "## Entendendo um pouco mais...\n",
        "\n",
        "[DOCUMENTACAO OFICIAL](https://beautiful-soup-4.readthedocs.io/en/latest/)"
      ]
    },
    {
      "cell_type": "markdown",
      "metadata": {
        "id": "0Z_hEf3eUuzF"
      },
      "source": [
        "### Vamos adentrar as tags começando pela tag HTML"
      ]
    },
    {
      "cell_type": "markdown",
      "metadata": {
        "id": "U1Ern2SxIfUl"
      },
      "source": [
        "### NAVEGACAO PELA ÁRVORE"
      ]
    },
    {
      "cell_type": "code",
      "execution_count": 110,
      "metadata": {
        "colab": {
          "base_uri": "https://localhost:8080/"
        },
        "id": "h-W2PMnuPaqJ",
        "outputId": "523ea1f7-e08b-470c-c7d0-74bd584fd791"
      },
      "outputs": [
        {
          "name": "stdout",
          "output_type": "stream",
          "text": [
            "<html lang=\"pt-br\">\n",
            "<head>\n",
            "<meta charset=\"utf-8\"/>\n",
            "<meta content=\"width=device-width, initial-scale=1.0\" name=\"viewport\"/>\n",
            "<meta content=\"Página demonstrativa de HTML com lista de produtos\" name=\"description\"/>\n",
            "<title>Página HTML Corrigida</title>\n",
            "<style>\n",
            "        body {\n",
            "            color: blue;\n",
            "            padding: 0px;\n",
            "            margin: 0px;\n",
            "            font-family: Arial, sans-serif;\n",
            "        }\n",
            "        \n",
            "        p {\n",
            "            color: brown; \n",
            "            font-size: 1.3em; \n",
            "            font-family: 'Courier New', Courier, monospace;\n",
            "        } \n",
            "        \n",
            "        h1 {\n",
            "            color: blue; \n",
            "            font-size: 25px; \n",
            "            font-family: 'Gill Sans', 'Gill Sans MT', Calibri, 'Trebuchet MS', sans-serif;\n",
            "        }\n",
            "        \n",
            "        h2 {\n",
            "            color: black; \n",
            "            font-size: 15px;\n",
            "        }\n",
            "\n",
            "        h3 {\n",
            "            color: blue;\n",
            "            font-size: 18px;\n",
            "        }\n",
            "\n",
            "        #main {\n",
            "            width: 50%;\n",
            "            padding: 5px;\n",
            "            margin: 5px;\n",
            "            text-align: left;\n",
            "        }\n",
            "\n",
            "        .produto {\n",
            "            width: 90%;\n",
            "            padding: 5%;\n",
            "            margin: 5%;\n",
            "            border: 1px solid #ddd;\n",
            "            border-radius: 5px;\n",
            "            background-color: #f9f9f9;\n",
            "        }\n",
            "\n",
            "        .produto ul {\n",
            "            list-style: none;\n",
            "            padding: 0;\n",
            "            margin: 0;\n",
            "        }\n",
            "\n",
            "        .produto li {\n",
            "            margin: 8px 0;\n",
            "            padding: 3px 0;\n",
            "        }\n",
            "\n",
            "        li.link {\n",
            "            color: black;\n",
            "            font-size: 1.5em;\n",
            "            font-family: Verdana, Geneva, Tahoma, sans-serif;\n",
            "        }\n",
            "\n",
            "        li.link a {\n",
            "            color: #0066cc;\n",
            "            text-decoration: none;\n",
            "        }\n",
            "\n",
            "        li.link a:hover {\n",
            "            text-decoration: underline;\n",
            "        }\n",
            "\n",
            "        .titulo {\n",
            "            font-weight: bold;\n",
            "            font-size: 16px;\n",
            "            color: #333;\n",
            "        }\n",
            "\n",
            "        .subtitulo {\n",
            "            font-style: italic;\n",
            "            color: #666;\n",
            "            font-size: 14px;\n",
            "        }\n",
            "\n",
            "        .id_produto {\n",
            "            font-size: 12px;\n",
            "            color: #888;\n",
            "            font-family: monospace;\n",
            "        }\n",
            "\n",
            "        .preco {\n",
            "            font-weight: bold;\n",
            "            color: #d9534f;\n",
            "            font-size: 18px;\n",
            "        }\n",
            "\n",
            "        .descricao {\n",
            "            margin-top: 20px;\n",
            "            padding: 10px;\n",
            "            background-color: #f0f0f0;\n",
            "            border-left: 4px solid #0066cc;\n",
            "        }\n",
            "\n",
            "        .rodape {\n",
            "            margin-top: 30px;\n",
            "            padding: 20px;\n",
            "            background-color: #f5f5f5;\n",
            "            border-top: 1px solid #ddd;\n",
            "        }\n",
            "    </style>\n",
            "</head>\n",
            "<body>\n",
            "<div id=\"main\">\n",
            "<div class=\"cabecalho\">\n",
            "<h1>OLÁ PESSOAL COMO VAI, AQUI É HTML</h1>\n",
            "<p>Oi pessoal eu sou um parágrafo. E estou dentro de uma tag chamada DIV. Ela serve para formatar as partes de um site.</p>\n",
            "</div>\n",
            "<div class=\"conteudo\">\n",
            "<h2>Oi, eu faço um título ficar mais com cara de título!</h2>\n",
            "<div class=\"produto\">\n",
            "<ul>\n",
            "<li class=\"link\"><a href=\"https://unifor.br\" target=\"_blank\">Link1</a></li>\n",
            "<li class=\"titulo\">Título do produto</li>\n",
            "<li class=\"subtitulo\">Lorem Ipsum Dolor amec ist dolor sit dum.</li>\n",
            "<li class=\"id_produto\">ID: x1555243</li>\n",
            "<li class=\"preco\">R$ 5,99</li>\n",
            "</ul>\n",
            "</div>\n",
            "<div class=\"produto\">\n",
            "<ul>\n",
            "<li class=\"link\"><a href=\"https://unifor.br\" target=\"_blank\">Link2</a></li>\n",
            "<li class=\"titulo\">Título do produto 2</li>\n",
            "<li class=\"subtitulo\">Lorem Ipsum Dolor amec ist dolor sit dum.</li>\n",
            "<li class=\"id_produto\">ID: x1555244</li>\n",
            "<li class=\"preco\">R$ 15,99</li>\n",
            "</ul>\n",
            "</div>\n",
            "<div class=\"produto\">\n",
            "<ul>\n",
            "<li class=\"link\"><a href=\"https://unifor.br\" target=\"_blank\">Link3</a></li>\n",
            "<li class=\"titulo\">Título do produto 3</li>\n",
            "<li class=\"subtitulo\">Lorem Ipsum Dolor amec ist dolor sit dum.</li>\n",
            "<li class=\"id_produto\">ID: x1555245</li>\n",
            "<li class=\"preco\">R$ 25,99</li>\n",
            "</ul>\n",
            "</div>\n",
            "<div class=\"produto\">\n",
            "<ul>\n",
            "<li class=\"link\"><a href=\"https://unifor.br\" target=\"_blank\">Link4</a></li>\n",
            "<li class=\"titulo\">Título do produto 4</li>\n",
            "<li class=\"subtitulo\">Lorem Ipsum Dolor amec ist dolor sit dum.</li>\n",
            "<li class=\"id_produto\">ID: x1555246</li>\n",
            "<li class=\"preco\">R$ 35,99</li>\n",
            "</ul>\n",
            "</div>\n",
            "<p class=\"descricao\">Vocês viram o UL e o LI, eles respondem na hora que precisamos escrever listas. Serve muito para menus.</p>\n",
            "</div>\n",
            "<div class=\"rodape\">\n",
            "<h3>Estamos no rodapé da página. Aqui seria o final do site que está no HTML.</h3>\n",
            "</div>\n",
            "</div>\n",
            "</body>\n",
            "</html>\n"
          ]
        }
      ],
      "source": [
        "# nó mais amplo que existe é o HTML\n",
        "print(bs.html)\n",
        "\n",
        "# nó inicial do conteúdo da página - BODY\n",
        "#print(bs.body)\n",
        "\n",
        "# div são usadas para dar estrutura do ambiente\n",
        "#print(bs.XXX)"
      ]
    },
    {
      "cell_type": "code",
      "execution_count": 111,
      "metadata": {
        "colab": {
          "base_uri": "https://localhost:8080/"
        },
        "id": "1-b71EU3IqJN",
        "outputId": "25b2ac7c-4673-4ffc-8b48-e0d1f73806d5"
      },
      "outputs": [],
      "source": [
        "#bs.p\n",
        "#bs.a\n",
        "#bs.h1\n",
        "#bs.title\n",
        "#bs.title.contents\n",
        "#filhos_head = [i for i in bs.head.children]\n",
        "#filhos_head\n",
        "#type(bs.head.parent)\n",
        "#type(bs.head.parents) #pode iterar"
      ]
    },
    {
      "cell_type": "code",
      "execution_count": 112,
      "metadata": {
        "colab": {
          "base_uri": "https://localhost:8080/"
        },
        "id": "r6023sz-VvCv",
        "outputId": "1138fed6-10b1-4cff-9fbe-2dd11e2c6c29"
      },
      "outputs": [
        {
          "name": "stdout",
          "output_type": "stream",
          "text": [
            "1) Find\n",
            "<class 'bs4.element.Tag'>\n",
            "<p>Oi pessoal eu sou um parágrafo. E estou dentro de uma tag chamada DIV. Ela serve para formatar as partes de um site.</p>\n",
            "1\n",
            "\n",
            "2) Find all\n",
            "<class 'bs4.element.ResultSet'>\n",
            "[<p>Oi pessoal eu sou um parágrafo. E estou dentro de uma tag chamada DIV. Ela serve para formatar as partes de um site.</p>, <p class=\"descricao\">Vocês viram o UL e o LI, eles respondem na hora que precisamos escrever listas. Serve muito para menus.</p>]\n",
            "2\n",
            "[<a href=\"https://unifor.br\" target=\"_blank\">Link1</a>, <a href=\"https://unifor.br\" target=\"_blank\">Link2</a>, <a href=\"https://unifor.br\" target=\"_blank\">Link3</a>, <a href=\"https://unifor.br\" target=\"_blank\">Link4</a>]\n",
            "\n",
            "3) Paragrafo: <p>Oi pessoal eu sou um parágrafo. E estou dentro de uma tag chamada DIV. Ela serve para formatar as partes de um site.</p>\n"
          ]
        }
      ],
      "source": [
        "from bs4.element import ResultSet\n",
        "# findAll(tag, attrs, text, limit, keywords)\n",
        "# find(tag, attrs, text, keywords)\n",
        "#DIFERENCAS DE TYPE RESPONSE\n",
        "\n",
        "print('1) Find') #Element.TAG\n",
        "paragrafo = bs.find('p')\n",
        "print(type(paragrafo))\n",
        "print(paragrafo)\n",
        "print(len(paragrafo))\n",
        "\n",
        "print('\\n2) Find all') #ResultSet\n",
        "#paragrafo = bs.find_all('p', limit=1)\n",
        "paragrafo = bs.find_all('p')\n",
        "print(type(paragrafo))\n",
        "print(paragrafo)\n",
        "print(len(paragrafo))\n",
        "\n",
        "print(bs.find('div', {'class':'conteudo'}).find_all('a'))\n",
        "\n",
        "# OBJETO CRIADO PELO find_all ResultSet = array, lista...\n",
        "print(f'\\n3) Paragrafo: {paragrafo[0]}')"
      ]
    },
    {
      "cell_type": "code",
      "execution_count": null,
      "metadata": {
        "id": "x1Ep_1Nk_zUA"
      },
      "outputs": [],
      "source": [
        "# This is it!"
      ]
    }
  ],
  "metadata": {
    "colab": {
      "provenance": []
    },
    "kernelspec": {
      "display_name": "aula01",
      "language": "python",
      "name": "python3"
    },
    "language_info": {
      "codemirror_mode": {
        "name": "ipython",
        "version": 3
      },
      "file_extension": ".py",
      "mimetype": "text/x-python",
      "name": "python",
      "nbconvert_exporter": "python",
      "pygments_lexer": "ipython3",
      "version": "3.12.10"
    }
  },
  "nbformat": 4,
  "nbformat_minor": 0
}
